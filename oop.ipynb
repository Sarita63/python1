{
 "cells": [
  {
   "cell_type": "code",
   "execution_count": 1,
   "id": "64409cc7",
   "metadata": {},
   "outputs": [],
   "source": [
    "# class <class_name>:\n",
    "#     <operations>\n",
    "\n",
    "# obj=<classname>()    \n",
    "    \n",
    "\n"
   ]
  },
  {
   "cell_type": "code",
   "execution_count": 4,
   "id": "39440bc2",
   "metadata": {},
   "outputs": [
    {
     "name": "stdout",
     "output_type": "stream",
     "text": [
      "hello world\n"
     ]
    }
   ],
   "source": [
    "class hello:                        \n",
    "    print(\"hello world\") \n",
    "\n",
    "obj=hello()\n",
    "    \n",
    "    \n"
   ]
  },
  {
   "cell_type": "code",
   "execution_count": 10,
   "id": "6489b59f",
   "metadata": {},
   "outputs": [
    {
     "name": "stdout",
     "output_type": "stream",
     "text": [
      "hello world\n"
     ]
    }
   ],
   "source": [
    "class Hello:\n",
    "    \n",
    "    def hello(self):\n",
    "        print(\"hello world\")\n",
    "        \n",
    "obj=Hello() \n",
    "obj.hello()\n",
    "#self here denotes that function uses all values of class.    "
   ]
  },
  {
   "cell_type": "code",
   "execution_count": 11,
   "id": "c3b5f614",
   "metadata": {},
   "outputs": [
    {
     "name": "stdout",
     "output_type": "stream",
     "text": [
      "hello world\n"
     ]
    }
   ],
   "source": [
    "class Hello:\n",
    "    @staticmethod\n",
    "    def hello():        \n",
    "        print(\"hello world\")\n",
    "        \n",
    "obj=Hello() \n",
    "obj.hello()\n",
    "#thus static method says hat function is independent and does not use values of class if some value initialized."
   ]
  },
  {
   "cell_type": "code",
   "execution_count": 15,
   "id": "4eefaa14",
   "metadata": {},
   "outputs": [
    {
     "name": "stdout",
     "output_type": "stream",
     "text": [
      "area= 50\n"
     ]
    }
   ],
   "source": [
    "class area:\n",
    "    @staticmethod\n",
    "    def Area(l,b):\n",
    "        print(\"area=\",l*b)\n",
    "        \n",
    "obj=area()\n",
    "obj.Area(10,5)"
   ]
  },
  {
   "cell_type": "code",
   "execution_count": 16,
   "id": "754c8858",
   "metadata": {},
   "outputs": [
    {
     "name": "stdout",
     "output_type": "stream",
     "text": [
      "area= 50\n"
     ]
    }
   ],
   "source": [
    "class area:\n",
    "   \n",
    "    def Area(self,l,b):\n",
    "        print(\"area=\",l*b)\n",
    "        \n",
    "obj=area()\n",
    "obj.Area(10,5)"
   ]
  },
  {
   "cell_type": "code",
   "execution_count": 17,
   "id": "3f3f49fe",
   "metadata": {},
   "outputs": [
    {
     "name": "stdout",
     "output_type": "stream",
     "text": [
      "50\n",
      "100\n"
     ]
    }
   ],
   "source": [
    "class cal:\n",
    "    def area(self,l,b):\n",
    "        print(l*b)\n",
    "        \n",
    "    def volume(self,l,b,h):\n",
    "        print(l*b*h)\n",
    "        \n",
    "obj=cal()\n",
    "obj.area(10,5)\n",
    "obj.volume(10,5,2)\n",
    "    "
   ]
  },
  {
   "cell_type": "code",
   "execution_count": 9,
   "id": "c00c57a9",
   "metadata": {},
   "outputs": [
    {
     "name": "stdout",
     "output_type": "stream",
     "text": [
      "50\n",
      "100\n"
     ]
    }
   ],
   "source": [
    "#init is constructor\n",
    "class cal:\n",
    "    def __init__(self,l,b,h):\n",
    "         self.l=l\n",
    "         self.b=b\n",
    "         self.h=h\n",
    "    \n",
    "            \n",
    "    def area(self):\n",
    "        print(self.l*self.b)\n",
    "        \n",
    "    def volume(self):\n",
    "        print(self.l*self.b*self.h)\n",
    "   \n",
    "        \n",
    "obj=cal(10,5,2)\n",
    "obj.area()\n",
    "obj.volume()       "
   ]
  },
  {
   "cell_type": "code",
   "execution_count": 10,
   "id": "fbe5e29c",
   "metadata": {},
   "outputs": [
    {
     "name": "stdout",
     "output_type": "stream",
     "text": [
      "enter l=20\n",
      "enter b=3\n",
      "enter h=2\n",
      "60\n",
      "120\n"
     ]
    }
   ],
   "source": [
    "class cal:\n",
    "    def __init__(self,l,b,h):\n",
    "         self.l=int(input(\"enter l=\"))\n",
    "         self.b=int(input(\"enter b=\"))\n",
    "         self.h=int(input(\"enter h=\"))\n",
    "    \n",
    "            \n",
    "    def area(self):\n",
    "        print(self.l*self.b)\n",
    "        \n",
    "    def volume(self):\n",
    "        print(self.l*self.b*self.h)\n",
    "   \n",
    "        \n",
    "obj=cal(10,5,2)\n",
    "obj.area()\n",
    "obj.volume()       "
   ]
  },
  {
   "cell_type": "code",
   "execution_count": 12,
   "id": "e481efd0",
   "metadata": {},
   "outputs": [
    {
     "name": "stdout",
     "output_type": "stream",
     "text": [
      "50\n",
      "100\n",
      "500\n",
      "1000\n"
     ]
    }
   ],
   "source": [
    "class cal:\n",
    "    def __init__(self,l,b,h):\n",
    "         self.l=l\n",
    "         self.b=b\n",
    "         self.h=h\n",
    "    \n",
    "            \n",
    "    def area(self):\n",
    "        print(self.l*self.b)\n",
    "        \n",
    "    def volume(self):\n",
    "        print(self.l*self.b*self.h)\n",
    "   \n",
    "        \n",
    "obj=cal(10,5,2)\n",
    "obj.area()\n",
    "obj.volume()       \n",
    "\n",
    "obj1=cal(100,5,2)\n",
    "obj1.area()\n",
    "obj1.volume() "
   ]
  },
  {
   "cell_type": "code",
   "execution_count": 15,
   "id": "9cbb781b",
   "metadata": {},
   "outputs": [
    {
     "name": "stdout",
     "output_type": "stream",
     "text": [
      "50\n",
      "60\n"
     ]
    }
   ],
   "source": [
    "class Area:\n",
    "    def __init__(self,l,b):\n",
    "        self.l=l\n",
    "        self.b=b\n",
    "    def area(self):\n",
    "        a=self.l*self.b\n",
    "        print(a)\n",
    "        \n",
    "class Volume:\n",
    "    def __init__(self,l,b,h):\n",
    "        self.l=l\n",
    "        self.b=b\n",
    "        self.h=h\n",
    "    def volume(self):\n",
    "        v=self.l*self.b*self.h\n",
    "        print(v)\n",
    "        \n",
    "obj1=Area(10,5)\n",
    "obj1.area()\n",
    "\n",
    "obj2=Volume(10,2,3)\n",
    "obj2.volume()\n",
    "        "
   ]
  },
  {
   "cell_type": "code",
   "execution_count": 16,
   "id": "d1e2606d",
   "metadata": {},
   "outputs": [],
   "source": [
    "# wap to make a data entry app using oop\n",
    "# wap to read and write data in using csv and pandas."
   ]
  },
  {
   "cell_type": "code",
   "execution_count": 21,
   "id": "557bd2da",
   "metadata": {},
   "outputs": [
    {
     "name": "stdout",
     "output_type": "stream",
     "text": [
      "ram\n",
      "<class '__main__.information'>\n"
     ]
    }
   ],
   "source": [
    "class information:\n",
    "    def __init__(self,name,age,add):\n",
    "        self.name=name\n",
    "        self.age=age\n",
    "        self.add=add\n",
    "        \n",
    "    def __str__(self):\n",
    "        return self.name\n",
    "    \n",
    "obj=information(\"ram\",34,\"kathamndu\")\n",
    "print(obj)\n",
    "print(type(obj))\n"
   ]
  },
  {
   "cell_type": "code",
   "execution_count": 27,
   "id": "cce26181",
   "metadata": {},
   "outputs": [
    {
     "name": "stdout",
     "output_type": "stream",
     "text": [
      "ram 34\n",
      "ram 34\n",
      "ram 34\n",
      "ram\n",
      "<class '__main__.information'>\n"
     ]
    }
   ],
   "source": [
    "class information:\n",
    "    def __init__(self,name,age,add):\n",
    "        self.name=name\n",
    "        self.age=age\n",
    "        self.add=add\n",
    "        \n",
    "    def helo(self):\n",
    "        return self.name\n",
    "    \n",
    "    def __str__(self):\n",
    "        return f\"{self.name} {self.age}\"\n",
    "    \n",
    "obj=information(\"ram\",34,\"kathamndu\")\n",
    "print(obj)\n",
    "print(obj.__str__())\n",
    "print(str(obj))\n",
    "print(obj.helo())\n",
    "print(type(obj))\n"
   ]
  },
  {
   "cell_type": "code",
   "execution_count": 28,
   "id": "f46ecd47",
   "metadata": {},
   "outputs": [
    {
     "name": "stdout",
     "output_type": "stream",
     "text": [
      "4  6\n"
     ]
    }
   ],
   "source": [
    "class point:\n",
    "    def __init__(self,x,y):\n",
    "        self.x=x\n",
    "        self.y=y\n",
    "        \n",
    "        \n",
    "    def __str__(self):\n",
    "        return f\"{self.x}  {self.y}\"\n",
    "    \n",
    "    def __add__(self,other):\n",
    "        x=self.x+other.x\n",
    "        y=self.y+other.y\n",
    "        return point(x,y)\n",
    "    \n",
    "p1=point(1,2)\n",
    "p2=point(3,4)\n",
    "print(p1+p2)\n",
    "    \n",
    "    \n",
    "                "
   ]
  },
  {
   "cell_type": "code",
   "execution_count": 38,
   "id": "2cf5e8ba",
   "metadata": {},
   "outputs": [
    {
     "name": "stdout",
     "output_type": "stream",
     "text": [
      "this is init  1000\n",
      "this is init  5000\n",
      "this is add  6000\n",
      "this is init  6000\n",
      "this is str  6000\n",
      "6000\n"
     ]
    }
   ],
   "source": [
    "class ecommerce:\n",
    "    def __init__(self,price):\n",
    "        self.price=price\n",
    "        print(\"this is init \",price)\n",
    "        \n",
    "    def __str__(self):\n",
    "        print(\"this is str \",self.price)\n",
    "        return str(self.price)\n",
    "    \n",
    "    def __add__(self,other):\n",
    "        s=self.price+other.price\n",
    "        print(\"this is add \",s)\n",
    "        return ecommerce(s)\n",
    "    \n",
    "p1=ecommerce(1000)  \n",
    "p2=ecommerce(5000)\n",
    "\n",
    "print(p1+p2)"
   ]
  },
  {
   "cell_type": "code",
   "execution_count": null,
   "id": "f4b9fcde",
   "metadata": {},
   "outputs": [],
   "source": [
    "\n"
   ]
  }
 ],
 "metadata": {
  "kernelspec": {
   "display_name": "Python 3 (ipykernel)",
   "language": "python",
   "name": "python3"
  },
  "language_info": {
   "codemirror_mode": {
    "name": "ipython",
    "version": 3
   },
   "file_extension": ".py",
   "mimetype": "text/x-python",
   "name": "python",
   "nbconvert_exporter": "python",
   "pygments_lexer": "ipython3",
   "version": "3.9.7"
  }
 },
 "nbformat": 4,
 "nbformat_minor": 5
}
