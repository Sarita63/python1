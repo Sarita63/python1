{
 "cells": [
  {
   "cell_type": "code",
   "execution_count": 4,
   "id": "ab93e4bf",
   "metadata": {},
   "outputs": [],
   "source": [
    "# tuple\n",
    "# characteristics of tuple:\n",
    "# indexed\n",
    "# ordered\n",
    "# multiple and duplicate data\n",
    "# imutable"
   ]
  },
  {
   "cell_type": "code",
   "execution_count": 5,
   "id": "d2b2029b",
   "metadata": {},
   "outputs": [
    {
     "name": "stdout",
     "output_type": "stream",
     "text": [
      "(1, 2, 3, 4, 5, 6)\n",
      "<class 'tuple'>\n"
     ]
    }
   ],
   "source": [
    "a=tuple()             #if used small bracket then it is tuple\n",
    "a=(1,2,3,4,5,6)\n",
    "print(a)\n",
    "print(type(a))"
   ]
  },
  {
   "cell_type": "code",
   "execution_count": 8,
   "id": "9136b208",
   "metadata": {},
   "outputs": [
    {
     "name": "stdout",
     "output_type": "stream",
     "text": [
      "<class 'tuple'>\n"
     ]
    }
   ],
   "source": [
    "a=(1,)                  #in this if only one value then we need to give comma to detect tuple.\n",
    "b=(\"apple\",)\n",
    "print(type(a))"
   ]
  },
  {
   "cell_type": "code",
   "execution_count": 14,
   "id": "0c2bd987",
   "metadata": {},
   "outputs": [
    {
     "name": "stdout",
     "output_type": "stream",
     "text": [
      "apple\n",
      "('apple', 'ball', 'cat', 'dog')\n",
      "('apple', 'cat')\n"
     ]
    }
   ],
   "source": [
    "b=(\"apple\",\"appyye\",\"appe\",\"apples\")\n",
    "print(a[0])\n",
    "print(a[0:4])\n",
    "print(a[0:4:2])"
   ]
  },
  {
   "cell_type": "code",
   "execution_count": 11,
   "id": "a6d61764",
   "metadata": {},
   "outputs": [
    {
     "name": "stdout",
     "output_type": "stream",
     "text": [
      "('apple', 'ball', 'cat', 'dog', 'fish')\n"
     ]
    }
   ],
   "source": [
    "a=(\"apple\",\"ball\",\"cat\",\"dog\")\n",
    "b=(\"fish\",)\n",
    "c=a+b\n",
    "print(c)"
   ]
  },
  {
   "cell_type": "code",
   "execution_count": 13,
   "id": "68aef1e1",
   "metadata": {},
   "outputs": [
    {
     "data": {
      "text/plain": [
       "('apple', 'ball', 'cat', 'dog', 'apple', 'ball', 'cat', 'dog')"
      ]
     },
     "execution_count": 13,
     "metadata": {},
     "output_type": "execute_result"
    }
   ],
   "source": [
    "a=(\"apple\",\"ball\",\"cat\",\"dog\")\n",
    "a*2\n"
   ]
  },
  {
   "cell_type": "code",
   "execution_count": 17,
   "id": "45d400fb",
   "metadata": {},
   "outputs": [],
   "source": [
    "# it has features such as\n",
    "# no append()\n",
    "# no insert()\n",
    "# no extend()\n",
    "# no del()\n",
    "# no remove()\n",
    "# no pop()\n",
    "#tuple is sensitive thus it cannot change its index "
   ]
  },
  {
   "cell_type": "code",
   "execution_count": 19,
   "id": "c1cafcfa",
   "metadata": {},
   "outputs": [
    {
     "name": "stdout",
     "output_type": "stream",
     "text": [
      "enter n2\n",
      "enter x=ram\n",
      "enter x=sary\n",
      "('ram', 'sary')\n"
     ]
    }
   ],
   "source": [
    "#we can create \n",
    "t=tuple()\n",
    "n=int(input(\"enter n\"))\n",
    "for i in range(n):\n",
    "    x=input(\"enter x=\")\n",
    "    t=t+ (x,)\n",
    "    \n",
    "print(t)    \n",
    "    "
   ]
  },
  {
   "cell_type": "code",
   "execution_count": 20,
   "id": "4e3628d8",
   "metadata": {},
   "outputs": [
    {
     "data": {
      "text/plain": [
       "(10, 50)"
      ]
     },
     "execution_count": 20,
     "metadata": {},
     "output_type": "execute_result"
    }
   ],
   "source": [
    "def cal():\n",
    "    a=10\n",
    "    v=50                 #tuple used in this beacause these a and  v value  are fixed.tuple is not dynamic value.\n",
    "    return a,v\n",
    "\n",
    "cal()\n"
   ]
  },
  {
   "cell_type": "code",
   "execution_count": 21,
   "id": "ec40332b",
   "metadata": {},
   "outputs": [
    {
     "name": "stdout",
     "output_type": "stream",
     "text": [
      "(10, 11, 12)\n"
     ]
    }
   ],
   "source": [
    "a=10,11,12\n",
    "print(a)"
   ]
  },
  {
   "cell_type": "code",
   "execution_count": 22,
   "id": "5b355b5a",
   "metadata": {},
   "outputs": [
    {
     "name": "stdout",
     "output_type": "stream",
     "text": [
      "('ball', 'cat', 'dog')\n"
     ]
    }
   ],
   "source": [
    "# coverting tuple to list\n",
    "a=(\"apple\",\"ball\",\"cat\",\"dog\")\n",
    "b=list(a)                         \n",
    "del b[0]\n",
    "a=tuple(b)\n",
    "print(a)"
   ]
  },
  {
   "cell_type": "code",
   "execution_count": 24,
   "id": "fcda4c06",
   "metadata": {},
   "outputs": [
    {
     "name": "stdout",
     "output_type": "stream",
     "text": [
      "(('ram', 6, 'ktm'), ('sarita', 22, 'hattiban'))\n"
     ]
    }
   ],
   "source": [
    "# tuple inside tuple\n",
    "a=(('ram',6,'ktm'),\n",
    "   ('sarita',22,'hattiban'))\n",
    "print(a)"
   ]
  },
  {
   "cell_type": "code",
   "execution_count": 25,
   "id": "c1c5ca73",
   "metadata": {},
   "outputs": [
    {
     "name": "stdout",
     "output_type": "stream",
     "text": [
      "(('ram', 6, 'ktm'), ('sarita', 22, 'hattiban'), ('sar', 5, 'chowk'))\n"
     ]
    }
   ],
   "source": [
    "a=(('ram',6,'ktm'),\n",
    "   ('sarita',22,'hattiban'))\n",
    "b=('sar',5,'chowk')\n",
    "print(a+(b,))\n",
    "  "
   ]
  },
  {
   "cell_type": "code",
   "execution_count": 27,
   "id": "8aa9c7b9",
   "metadata": {},
   "outputs": [
    {
     "name": "stdout",
     "output_type": "stream",
     "text": [
      "(('ram', 6, 'ktm'), ('sarita', 22, 'hattiban'), ('sar', 5, 'chowk'))\n"
     ]
    }
   ],
   "source": [
    "a=(('ram',6,'ktm'),\n",
    "   ('sarita',22,'hattiban'))\n",
    "b=(('sar',5,'chowk'),)\n",
    "print(a+b)\n",
    "  "
   ]
  },
  {
   "cell_type": "code",
   "execution_count": 28,
   "id": "654997e7",
   "metadata": {},
   "outputs": [
    {
     "data": {
      "text/plain": [
       "[('ram', 6, 'ktm'), ('sarita', 22, 'hattiban')]"
      ]
     },
     "execution_count": 28,
     "metadata": {},
     "output_type": "execute_result"
    }
   ],
   "source": [
    "a=(('ram',6,'ktm'),\n",
    "   ('sarita',22,'hattiban'))\n",
    "list(a)"
   ]
  },
  {
   "cell_type": "code",
   "execution_count": 34,
   "id": "eb21239b",
   "metadata": {},
   "outputs": [
    {
     "name": "stdout",
     "output_type": "stream",
     "text": [
      "[('ram', 6, 'ktm'), ('sarita', 22, 'hattiban')]\n"
     ]
    }
   ],
   "source": [
    "a=(('ram',6,'ktm'),\n",
    "   ('sarita',22,'hattiban'))\n",
    "b=list(a)\n",
    "print(b)"
   ]
  },
  {
   "cell_type": "code",
   "execution_count": 35,
   "id": "ec2ed539",
   "metadata": {},
   "outputs": [
    {
     "name": "stdout",
     "output_type": "stream",
     "text": [
      "[('sarita', 22, 'hattiban')]\n"
     ]
    }
   ],
   "source": [
    "del b[0]\n",
    "print(b)"
   ]
  },
  {
   "cell_type": "code",
   "execution_count": 39,
   "id": "e99e8212",
   "metadata": {},
   "outputs": [
    {
     "name": "stdout",
     "output_type": "stream",
     "text": [
      "[('sarita', 22, 'hattiban'), ('ashna', 22, 'architec'), ('ashna', 22, 'architec')]\n"
     ]
    }
   ],
   "source": [
    "b.append((\"ashna\",22,\"architec\"))\n",
    "print(b)"
   ]
  },
  {
   "cell_type": "code",
   "execution_count": 40,
   "id": "cab0ce8d",
   "metadata": {},
   "outputs": [
    {
     "data": {
      "text/plain": [
       "('sarita', 22, 'hattiban')"
      ]
     },
     "execution_count": 40,
     "metadata": {},
     "output_type": "execute_result"
    }
   ],
   "source": [
    "b[0]"
   ]
  },
  {
   "cell_type": "code",
   "execution_count": null,
   "id": "3e76893a",
   "metadata": {},
   "outputs": [],
   "source": [
    "#wap to convert tuple inside tuple to list inside list.\n",
    "#wap to perform crude operation list inside tuple.\n",
    "#wap to create tuple inside list\n",
    "# (['sarita', 22, 'hattiban')], ['ashna', 22, 'architec'], ['ashna', 22, 'architec'])\n",
    "# #and vise versa\n",
    "\n"
   ]
  }
 ],
 "metadata": {
  "kernelspec": {
   "display_name": "Python 3 (ipykernel)",
   "language": "python",
   "name": "python3"
  },
  "language_info": {
   "codemirror_mode": {
    "name": "ipython",
    "version": 3
   },
   "file_extension": ".py",
   "mimetype": "text/x-python",
   "name": "python",
   "nbconvert_exporter": "python",
   "pygments_lexer": "ipython3",
   "version": "3.9.7"
  }
 },
 "nbformat": 4,
 "nbformat_minor": 5
}
