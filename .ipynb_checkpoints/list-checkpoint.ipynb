{
 "cells": [
  {
   "cell_type": "code",
   "execution_count": null,
   "id": "c01cc9f0",
   "metadata": {},
   "outputs": [],
   "source": [
    "#list is muttable data type\n",
    "# Python collection\n",
    "# List (list is muttable data type)\n",
    "# tuple\n",
    "# dictionary\n",
    "# set"
   ]
  },
  {
   "cell_type": "code",
   "execution_count": null,
   "id": "4a70699a",
   "metadata": {},
   "outputs": [],
   "source": [
    "# # list\n",
    "# -Indexed\n",
    "# -Ordered\n",
    "# -Multiple and duplicate data\n",
    "# -Mutable"
   ]
  },
  {
   "cell_type": "code",
   "execution_count": 1,
   "id": "56abc9d2",
   "metadata": {},
   "outputs": [
    {
     "name": "stdout",
     "output_type": "stream",
     "text": [
      "5\n",
      "['apple', 'ball', 'cat', 'dog', 'fish']\n",
      "<class 'list'>\n"
     ]
    }
   ],
   "source": [
    "#list\n",
    "a=[\"apple\",\"ball\",\"cat\",\"dog\",\"fish\"]\n",
    "l=len(a)\n",
    "print(l)\n",
    "print(a)\n",
    "print(type(a))\n"
   ]
  },
  {
   "cell_type": "code",
   "execution_count": 2,
   "id": "45b724e2",
   "metadata": {},
   "outputs": [
    {
     "name": "stdout",
     "output_type": "stream",
     "text": [
      "ball\n",
      "['apple', 'ball', 'cat', 'dog']\n",
      "['apple', 'cat']\n"
     ]
    }
   ],
   "source": [
    "a=[\"apple\",\"ball\",\"cat\",\"dog\",\"fish\"]\n",
    "print(a[1])\n",
    "print(a[0:4])\n",
    "print(a[0:4:2])\n"
   ]
  },
  {
   "cell_type": "code",
   "execution_count": 3,
   "id": "75f6c36b",
   "metadata": {},
   "outputs": [
    {
     "name": "stdout",
     "output_type": "stream",
     "text": [
      "['apple', 'ball', 'cat', 'dog', 'fish', 1, 2, 3, 4, 5]\n"
     ]
    }
   ],
   "source": [
    "a=[\"apple\",\"ball\",\"cat\",\"dog\",\"fish\"]\n",
    "b=[1,2,3,4,5]\n",
    "c=a+b\n",
    "print(c)"
   ]
  },
  {
   "cell_type": "code",
   "execution_count": 4,
   "id": "4e1a5b43",
   "metadata": {},
   "outputs": [
    {
     "name": "stdout",
     "output_type": "stream",
     "text": [
      "[1, 2, 3, 4, 5, 'apple', 'ball', 'cat', 'dog', 'fish']\n"
     ]
    }
   ],
   "source": [
    "a=[\"apple\",\"ball\",\"cat\",\"dog\",\"fish\"]\n",
    "b=[1,2,3,4,5]\n",
    "c=b+a\n",
    "print(c)"
   ]
  },
  {
   "cell_type": "code",
   "execution_count": 39,
   "id": "5eaa409e",
   "metadata": {},
   "outputs": [
    {
     "name": "stdout",
     "output_type": "stream",
     "text": [
      "['apple', 'ball', 'cat', 'dog', 'fish', 'apple', 'ball', 'cat', 'dog', 'fish']\n"
     ]
    }
   ],
   "source": [
    "a=[\"apple\",\"ball\",\"cat\",\"dog\",\"fish\"]   #enlargement\n",
    "print(a*2)"
   ]
  },
  {
   "cell_type": "code",
   "execution_count": 5,
   "id": "0aa22b6d",
   "metadata": {},
   "outputs": [
    {
     "name": "stdout",
     "output_type": "stream",
     "text": [
      "[1, 2, 'apple', 'ball', 'cat', 'dog', 'fish', 1, 2]\n"
     ]
    }
   ],
   "source": [
    "a=[1,2,\"apple\",\"ball\",\"cat\",\"dog\",\"fish\",1,2]\n",
    "print(a)"
   ]
  },
  {
   "cell_type": "code",
   "execution_count": 8,
   "id": "1272ba30",
   "metadata": {},
   "outputs": [
    {
     "name": "stdout",
     "output_type": "stream",
     "text": [
      "9\n"
     ]
    }
   ],
   "source": [
    "a=[1,2,\"apple\",\"ball\",\"cat\",\"dog\",\"fish\",1,2]\n",
    "l=len(a)\n",
    "print(l)\n"
   ]
  },
  {
   "cell_type": "code",
   "execution_count": 9,
   "id": "196c89bf",
   "metadata": {},
   "outputs": [
    {
     "data": {
      "text/plain": [
       "['ant', 'ball', 'cat', 'dog', 'fish']"
      ]
     },
     "execution_count": 9,
     "metadata": {},
     "output_type": "execute_result"
    }
   ],
   "source": [
    "a=[\"apple\",\"ball\",\"cat\",\"dog\",\"fish\"]   #changeable ie mutable\n",
    "a[0]=\"ant\"\n",
    "a"
   ]
  },
  {
   "cell_type": "code",
   "execution_count": 10,
   "id": "5da8981c",
   "metadata": {},
   "outputs": [
    {
     "name": "stdout",
     "output_type": "stream",
     "text": [
      "enter how many people2\n",
      "enter you fav animal3\n",
      "enter you fav animal4\n",
      "[3, 4]\n"
     ]
    }
   ],
   "source": [
    "l=list() #l is list data type here\n",
    "n=int(input(\"enter how many people\"))\n",
    "for i in range(n):\n",
    "    x=int(input(\"enter x\"))\n",
    "    l.append(x)\n",
    "    \n",
    "    \n",
    "print(l)    \n",
    "\n"
   ]
  },
  {
   "cell_type": "code",
   "execution_count": 13,
   "id": "bf6719f0",
   "metadata": {},
   "outputs": [
    {
     "name": "stdout",
     "output_type": "stream",
     "text": [
      "enter how many people2\n",
      "enter fav animalsRAT\n",
      "enter fav animalsCAT\n",
      "['RAT', 'CAT']\n"
     ]
    }
   ],
   "source": [
    "l=list() #l is list data type here\n",
    "n=int(input(\"enter how many people\"))\n",
    "for i in range(n):\n",
    "    animals=input(\"enter fav animals\")\n",
    "    l.append(animals)\n",
    "    \n",
    "    \n",
    "print(l)    \n"
   ]
  },
  {
   "cell_type": "code",
   "execution_count": 15,
   "id": "217d3091",
   "metadata": {},
   "outputs": [
    {
     "name": "stdout",
     "output_type": "stream",
     "text": [
      "90\n",
      "0\n",
      "105\n"
     ]
    }
   ],
   "source": [
    "#max min sum\n",
    "a=[0,6,9,90]\n",
    "print(max(a))\n",
    "print(min(a))\n",
    "print(sum(a))"
   ]
  },
  {
   "cell_type": "code",
   "execution_count": 16,
   "id": "759c2834",
   "metadata": {},
   "outputs": [
    {
     "name": "stdout",
     "output_type": "stream",
     "text": [
      "[0, 6, 9, 90]\n"
     ]
    }
   ],
   "source": [
    "a.sort()\n",
    "print(a)"
   ]
  },
  {
   "cell_type": "code",
   "execution_count": 18,
   "id": "cddc102c",
   "metadata": {},
   "outputs": [
    {
     "name": "stdout",
     "output_type": "stream",
     "text": [
      "['Ball', 'apple', 'cat', 'dog', 'fish']\n"
     ]
    }
   ],
   "source": [
    "a=[\"apple\",\"Ball\",\"cat\",\"dog\",\"fish\"]   #in string it brings capital letter at first\n",
    "a.sort()\n",
    "print(a)"
   ]
  },
  {
   "cell_type": "code",
   "execution_count": 19,
   "id": "76f3f9a7",
   "metadata": {},
   "outputs": [
    {
     "name": "stdout",
     "output_type": "stream",
     "text": [
      "apple\n",
      "Ball\n",
      "cat\n",
      "dog\n",
      "fish\n"
     ]
    }
   ],
   "source": [
    "a=[\"apple\",\"Ball\",\"cat\",\"dog\",\"fish\"]\n",
    "for i in a:\n",
    "    print(i)"
   ]
  },
  {
   "cell_type": "code",
   "execution_count": 25,
   "id": "ed81d566",
   "metadata": {},
   "outputs": [
    {
     "name": "stdout",
     "output_type": "stream",
     "text": [
      "yes\n",
      "1\n"
     ]
    }
   ],
   "source": [
    "a=[\"apple\",\"Ball\",\"cat\",\"dog\",\"fish\"]\n",
    "if \"apple\" in a:\n",
    "    print(\"yes\")\n",
    "    print(a.count(\"apple\"))"
   ]
  },
  {
   "cell_type": "code",
   "execution_count": 32,
   "id": "43c07b9e",
   "metadata": {},
   "outputs": [],
   "source": [
    "#append() insert() extend()\n"
   ]
  },
  {
   "cell_type": "code",
   "execution_count": 35,
   "id": "1dbbb9e3",
   "metadata": {},
   "outputs": [
    {
     "name": "stdout",
     "output_type": "stream",
     "text": [
      "['Apple']\n"
     ]
    }
   ],
   "source": [
    "a=[]\n",
    "a.append(\"Apple\")\n",
    "print(a)\n"
   ]
  },
  {
   "cell_type": "code",
   "execution_count": 36,
   "id": "ffa59d9f",
   "metadata": {},
   "outputs": [
    {
     "name": "stdout",
     "output_type": "stream",
     "text": [
      "['apple', 'cricket', 'Ball', 'cat', 'dog', 'fish']\n"
     ]
    }
   ],
   "source": [
    "a=[\"apple\",\"Ball\",\"cat\",\"dog\",\"fish\"]\n",
    "a.insert(1,\"cricket\")\n",
    "print(a)\n"
   ]
  },
  {
   "cell_type": "code",
   "execution_count": 37,
   "id": "c8522ee3",
   "metadata": {},
   "outputs": [
    {
     "name": "stdout",
     "output_type": "stream",
     "text": [
      "['apple', 'Ball', 'cat', 'dog', 'fish', 'haae', 'Bassll', 'cat', 'dog', 'fish']\n"
     ]
    }
   ],
   "source": [
    "a=[\"apple\",\"Ball\",\"cat\",\"dog\",\"fish\"]\n",
    "b=[\"haae\",\"Bassll\",\"cat\",\"dog\",\"fish\"]\n",
    "a.extend(b)\n",
    "print(a)"
   ]
  },
  {
   "cell_type": "code",
   "execution_count": 38,
   "id": "0ca658ba",
   "metadata": {},
   "outputs": [
    {
     "name": "stdout",
     "output_type": "stream",
     "text": [
      "['haae', 'Bassll', 'cat', 'dog', 'fish']\n"
     ]
    }
   ],
   "source": [
    "a=[]\n",
    "b=[\"haae\",\"Bassll\",\"cat\",\"dog\",\"fish\"]\n",
    "a.extend(b)\n",
    "print(a)"
   ]
  },
  {
   "cell_type": "code",
   "execution_count": 41,
   "id": "e0c73d39",
   "metadata": {},
   "outputs": [
    {
     "name": "stdout",
     "output_type": "stream",
     "text": [
      "['Ball', 'cat', 'dog', 'fish']\n"
     ]
    }
   ],
   "source": [
    "# remove() del pop()\n",
    "a=[\"apple\",\"Ball\",\"cat\",\"dog\",\"fish\"]      #remove by value\n",
    "a.remove(\"apple\")\n",
    "print(a)"
   ]
  },
  {
   "cell_type": "code",
   "execution_count": 42,
   "id": "5b78cef2",
   "metadata": {},
   "outputs": [
    {
     "name": "stdout",
     "output_type": "stream",
     "text": [
      "['Ball', 'cat', 'dog', 'fish']\n"
     ]
    }
   ],
   "source": [
    "a=[\"apple\",\"Ball\",\"cat\",\"dog\",\"fish\"]    #remove by index mostly used\n",
    "del a[0]\n",
    "print(a)"
   ]
  },
  {
   "cell_type": "code",
   "execution_count": 43,
   "id": "0dc582b9",
   "metadata": {},
   "outputs": [
    {
     "name": "stdout",
     "output_type": "stream",
     "text": [
      "['dog', 'fish']\n"
     ]
    }
   ],
   "source": [
    "a=[\"apple\",\"Ball\",\"cat\",\"dog\",\"fish\"]    #remove by index mostly used\n",
    "del a[0:3]\n",
    "print(a)"
   ]
  },
  {
   "cell_type": "code",
   "execution_count": 45,
   "id": "8436ac0d",
   "metadata": {},
   "outputs": [
    {
     "name": "stdout",
     "output_type": "stream",
     "text": [
      "['apple']\n"
     ]
    }
   ],
   "source": [
    "a=[\"apple\",\"Ball\",\"cat\",\"dog\",\"fish\"]    #remove by index \n",
    "del a[1:]\n",
    "print(a)"
   ]
  },
  {
   "cell_type": "code",
   "execution_count": 46,
   "id": "56842a9c",
   "metadata": {},
   "outputs": [
    {
     "data": {
      "text/plain": [
       "4"
      ]
     },
     "execution_count": 46,
     "metadata": {},
     "output_type": "execute_result"
    }
   ],
   "source": [
    "a=[\"apple\",\"Ball\",\"cat\",\"dog\",\"fish\"]     #give index by value\n",
    "a.index(\"fish\")\n"
   ]
  },
  {
   "cell_type": "code",
   "execution_count": 50,
   "id": "ae84a5f6",
   "metadata": {},
   "outputs": [
    {
     "name": "stdout",
     "output_type": "stream",
     "text": [
      "['Ball', 'cat', 'dog', 'fish', 'apple']\n"
     ]
    }
   ],
   "source": [
    "a=[\"apple\",\"Ball\",\"cat\",\"dog\",\"fish\",\"apple\",\"apple\"] #if two same then cannot remove like apple at last comes pne after another and thus not remove\n",
    "for i in a:\n",
    "    if i==\"apple\":\n",
    "        a.remove(\"apple\")\n",
    "print(a)        \n",
    "    \n"
   ]
  },
  {
   "cell_type": "code",
   "execution_count": 52,
   "id": "0d18f9c8",
   "metadata": {},
   "outputs": [
    {
     "name": "stdout",
     "output_type": "stream",
     "text": [
      "['Ball', 'cat', 'dog', 'fish', 'apple', 'apple']\n"
     ]
    }
   ],
   "source": [
    "a=[\"apple\",\"Ball\",\"cat\",\"dog\",\"fish\",\"apple\",\"apple\"] #if two same then cannot remove like apple at last comes pne after another and thus not remove\n",
    "l=a.count('apple')\n",
    "\n",
    "for i in range(l):\n",
    "    if a[i]  == \"apple\":\n",
    "        a.remove(a[i])\n",
    "print(a)        \n",
    "  #again not solved now so we use:  "
   ]
  },
  {
   "cell_type": "code",
   "execution_count": 53,
   "id": "37c90eb1",
   "metadata": {},
   "outputs": [
    {
     "name": "stdout",
     "output_type": "stream",
     "text": [
      "['Ball', 'cat', 'dog', 'fish']\n"
     ]
    }
   ],
   "source": [
    "a=[\"apple\",\"Ball\",\"cat\",\"dog\",\"fish\",\"apple\",\"apple\"]\n",
    "b=[]\n",
    "for i in a:\n",
    "    if i!=\"apple\":\n",
    "        b.append(i)\n",
    "print(b)        \n",
    "    "
   ]
  },
  {
   "cell_type": "code",
   "execution_count": 3,
   "id": "37927b83",
   "metadata": {},
   "outputs": [
    {
     "name": "stdout",
     "output_type": "stream",
     "text": [
      "apple 0\n",
      "apple 5\n",
      "apple 6\n"
     ]
    }
   ],
   "source": [
    "#wap to detect index of same value \n",
    "a=[\"apple\",\"Ball\",\"cat\",\"dog\",\"fish\",\"apple\",\"apple\"]\n",
    "l=len(a)\n",
    "for i in range(l):\n",
    "    if a[i]==\"apple\":\n",
    "         print(a[i],i)\n",
    "            \n",
    "        \n",
    "      \n",
    "    "
   ]
  },
  {
   "cell_type": "code",
   "execution_count": 9,
   "id": "2399cda6",
   "metadata": {},
   "outputs": [
    {
     "name": "stdout",
     "output_type": "stream",
     "text": [
      "4\n",
      "4\n"
     ]
    }
   ],
   "source": [
    "a=[\"Ball\",\"cat\",\"dog\",\"fish\",\"apple\",\"apple\"]\n",
    "l=len(a)\n",
    "for i in range(l):\n",
    "    if a[i]==\"apple\":\n",
    "           print(a.index(\"apple\"))\n",
    "            "
   ]
  },
  {
   "cell_type": "code",
   "execution_count": 14,
   "id": "e9e4e781",
   "metadata": {},
   "outputs": [
    {
     "name": "stdout",
     "output_type": "stream",
     "text": [
      "3\n"
     ]
    }
   ],
   "source": [
    "#list inside list\n",
    "a=[[1,2,3,4],\n",
    "   [4,5,6],\n",
    "   [7,8,9]]\n",
    "print(len(a))\n"
   ]
  },
  {
   "cell_type": "code",
   "execution_count": 11,
   "id": "ca091ced",
   "metadata": {},
   "outputs": [
    {
     "name": "stdout",
     "output_type": "stream",
     "text": [
      "[1, 2, 3, 4]\n"
     ]
    }
   ],
   "source": [
    "print(a[0])"
   ]
  },
  {
   "cell_type": "code",
   "execution_count": 20,
   "id": "2c6a4677",
   "metadata": {},
   "outputs": [
    {
     "name": "stdout",
     "output_type": "stream",
     "text": [
      "[['ram', 6, 'ktm'], ['sarita', 22, 'hattiban']]\n"
     ]
    }
   ],
   "source": [
    "a=[['ram',6,'ktm'],\n",
    "   ['sarita',22,'hattiban']]\n",
    "print(a)"
   ]
  },
  {
   "cell_type": "code",
   "execution_count": 21,
   "id": "867f1d01",
   "metadata": {},
   "outputs": [
    {
     "name": "stdout",
     "output_type": "stream",
     "text": [
      "['ram', 6, 'ktm']\n",
      "ktm\n"
     ]
    }
   ],
   "source": [
    "print(a[0])\n",
    "print(a[0][2])"
   ]
  },
  {
   "cell_type": "code",
   "execution_count": 22,
   "id": "9f3fc0f1",
   "metadata": {},
   "outputs": [
    {
     "name": "stdout",
     "output_type": "stream",
     "text": [
      "['ram', 6, 'ktm']\n",
      "['sarita', 22, 'hattiban']\n"
     ]
    }
   ],
   "source": [
    "# name=input(\"enter name:\")\n",
    "for i in a:\n",
    "    print(i)"
   ]
  },
  {
   "cell_type": "code",
   "execution_count": 24,
   "id": "85a71566",
   "metadata": {},
   "outputs": [
    {
     "name": "stdout",
     "output_type": "stream",
     "text": [
      "enter name:ram\n",
      "['ram', 6, 'ktm']\n"
     ]
    }
   ],
   "source": [
    " name=input(\"enter name:\")\n",
    "for i in a:\n",
    "    if name in i:\n",
    "        print(i)"
   ]
  },
  {
   "cell_type": "code",
   "execution_count": 28,
   "id": "153c19ef",
   "metadata": {},
   "outputs": [
    {
     "name": "stdout",
     "output_type": "stream",
     "text": [
      "enter how many 2\n",
      "enter name:e\n",
      "enter age3\n",
      "enter adress:r\n",
      "enter name:\n",
      "enter age3\n",
      "enter adress:rrr\n",
      "[['e', 3, 'r'], ['', 3, 'rrr']]\n"
     ]
    }
   ],
   "source": [
    "n=int(input(\"enter how many \"))\n",
    "info=[]\n",
    "for i in range(n):\n",
    "    name=input(\"enter name:\")\n",
    "    age=int(input(\"enter age\"))\n",
    "    address=input(\"enter adress:\")\n",
    "    data=[name,age,address]\n",
    "    info.append(data)\n",
    "    \n",
    "print(info)     "
   ]
  },
  {
   "cell_type": "code",
   "execution_count": 31,
   "id": "b9e67eb7",
   "metadata": {},
   "outputs": [
    {
     "name": "stdout",
     "output_type": "stream",
     "text": [
      "[['sarita', 22, 'hattiban']]\n"
     ]
    }
   ],
   "source": [
    "a=[['ram',6,'ktm'],\n",
    "   ['sarita',22,'hattiban']]\n",
    "del a[0]\n",
    "print(a)"
   ]
  },
  {
   "cell_type": "code",
   "execution_count": 33,
   "id": "4797d96b",
   "metadata": {},
   "outputs": [
    {
     "name": "stdout",
     "output_type": "stream",
     "text": [
      "[['ram prasad', 6, 'ktm'], ['sarita', 22, 'hattiban']]\n"
     ]
    }
   ],
   "source": [
    "a=[['ram',6,'ktm'],\n",
    "   ['sarita',22,'hattiban']]\n",
    "a[0][0]=\"ram prasad\"\n",
    "print(a)"
   ]
  },
  {
   "cell_type": "code",
   "execution_count": 34,
   "id": "cb9aadf7",
   "metadata": {},
   "outputs": [
    {
     "name": "stdout",
     "output_type": "stream",
     "text": [
      "[['ram', 6, 'ktm'], ['sarita', 22, 'hattiban'], ['sami', 3, 'bhaktapur']]\n"
     ]
    }
   ],
   "source": [
    "a=[['ram',6,'ktm'],\n",
    "   ['sarita',22,'hattiban']]\n",
    "a.append(['sami',3,'bhaktapur'])\n",
    "print(a)"
   ]
  },
  {
   "cell_type": "code",
   "execution_count": 36,
   "id": "29a8fa94",
   "metadata": {},
   "outputs": [
    {
     "name": "stdout",
     "output_type": "stream",
     "text": [
      "enter ur name:ram\n",
      "[['sarita', 22, 'hattiban']]\n"
     ]
    }
   ],
   "source": [
    "a=[['ram',6,'ktm'],\n",
    "   ['sarita',22,'hattiban']]\n",
    "name=input(\"enter ur name:\")\n",
    "for i in a:\n",
    "    if name in i:\n",
    "        a.remove(i)\n",
    "print(a)        \n"
   ]
  },
  {
   "cell_type": "code",
   "execution_count": 37,
   "id": "4fadb4c5",
   "metadata": {},
   "outputs": [],
   "source": [
    "#wap to create a matrix by taking input from user ie row and column \n",
    "#list comprehension and filter in bonus topic "
   ]
  },
  {
   "cell_type": "code",
   "execution_count": null,
   "id": "6a59c9ef",
   "metadata": {},
   "outputs": [],
   "source": []
  }
 ],
 "metadata": {
  "kernelspec": {
   "display_name": "Python 3 (ipykernel)",
   "language": "python",
   "name": "python3"
  },
  "language_info": {
   "codemirror_mode": {
    "name": "ipython",
    "version": 3
   },
   "file_extension": ".py",
   "mimetype": "text/x-python",
   "name": "python",
   "nbconvert_exporter": "python",
   "pygments_lexer": "ipython3",
   "version": "3.9.7"
  }
 },
 "nbformat": 4,
 "nbformat_minor": 5
}
