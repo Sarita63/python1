{
 "cells": [
  {
   "cell_type": "code",
   "execution_count": 1,
   "id": "fe06eb7c",
   "metadata": {},
   "outputs": [
    {
     "name": "stdout",
     "output_type": "stream",
     "text": [
      "hello world\n",
      "<class 'str'>\n"
     ]
    }
   ],
   "source": [
    "a=\"hello world\"\n",
    "print(a)\n",
    "print(type(a))\n"
   ]
  },
  {
   "cell_type": "code",
   "execution_count": 2,
   "id": "4f4d9c08",
   "metadata": {},
   "outputs": [
    {
     "name": "stdout",
     "output_type": "stream",
     "text": [
      "helloworld\n"
     ]
    }
   ],
   "source": [
    "a=\"hello\"\n",
    "b=\"world\"\n",
    "c=a+b\n",
    "print(c)"
   ]
  },
  {
   "cell_type": "code",
   "execution_count": 4,
   "id": "5337383b",
   "metadata": {},
   "outputs": [
    {
     "name": "stdout",
     "output_type": "stream",
     "text": [
      "hello world\n",
      "hello world\n",
      "\n"
     ]
    }
   ],
   "source": [
    "a=\"hello world\\n\"\n",
    "print(a*2)"
   ]
  },
  {
   "cell_type": "code",
   "execution_count": 6,
   "id": "44d45264",
   "metadata": {},
   "outputs": [
    {
     "name": "stdout",
     "output_type": "stream",
     "text": [
      "l\n"
     ]
    }
   ],
   "source": [
    "a=\"hello worl\"\n",
    "print(a[2])"
   ]
  },
  {
   "cell_type": "code",
   "execution_count": 7,
   "id": "0b0ba5fe",
   "metadata": {},
   "outputs": [
    {
     "name": "stdout",
     "output_type": "stream",
     "text": [
      "hello\n"
     ]
    }
   ],
   "source": [
    "a=\"hello world\"\n",
    "print(a[0:5])"
   ]
  },
  {
   "cell_type": "code",
   "execution_count": 9,
   "id": "0c7f36c3",
   "metadata": {},
   "outputs": [
    {
     "name": "stdout",
     "output_type": "stream",
     "text": [
      "hello worl\n"
     ]
    }
   ],
   "source": [
    "a=\"hello world\"\n",
    "print(a[0:10:1])"
   ]
  },
  {
   "cell_type": "code",
   "execution_count": 10,
   "id": "f836a307",
   "metadata": {},
   "outputs": [
    {
     "name": "stdout",
     "output_type": "stream",
     "text": [
      "hlowr\n"
     ]
    }
   ],
   "source": [
    "a=\"hello world\"\n",
    "print(a[0:10:2])"
   ]
  },
  {
   "cell_type": "code",
   "execution_count": 11,
   "id": "1cbaa117",
   "metadata": {},
   "outputs": [
    {
     "name": "stdout",
     "output_type": "stream",
     "text": [
      "hello\n",
      " world\n"
     ]
    }
   ],
   "source": [
    "#string slicing\n",
    "a=\"hello world\"\n",
    "b=(a[0:5])\n",
    "c=(a[5:])\n",
    "print(b)\n",
    "print(c)"
   ]
  },
  {
   "cell_type": "code",
   "execution_count": 17,
   "id": "6e7f90ff",
   "metadata": {},
   "outputs": [
    {
     "name": "stdout",
     "output_type": "stream",
     "text": [
      "dlrow olleh\n"
     ]
    }
   ],
   "source": [
    "a=\"hello world\"\n",
    "l=len(a)\n",
    "print(a[l::-1])"
   ]
  },
  {
   "cell_type": "code",
   "execution_count": 18,
   "id": "167a9347",
   "metadata": {},
   "outputs": [
    {
     "data": {
      "text/plain": [
       "'d'"
      ]
     },
     "execution_count": 18,
     "metadata": {},
     "output_type": "execute_result"
    }
   ],
   "source": [
    "a=\"hello world\"\n",
    "a[-1]"
   ]
  },
  {
   "cell_type": "code",
   "execution_count": 19,
   "id": "2bd0a8a9",
   "metadata": {},
   "outputs": [],
   "source": [
    "#if string concsits of 1 then it does not include it\n",
    "#if 2 then increment by 2\n",
    "#-1 indicates the last index of string\n",
    "#it start form -1 form backside and thus increment\n"
   ]
  },
  {
   "cell_type": "code",
   "execution_count": 22,
   "id": "a43b7bfe",
   "metadata": {},
   "outputs": [
    {
     "name": "stdout",
     "output_type": "stream",
     "text": [
      "enter names\n",
      "enter age2\n",
      "Enter addressdd\n",
      "hello i am si am fromddand my age is 2\n"
     ]
    }
   ],
   "source": [
    "#not using string formatting (imp)\n",
    "name=(input(\"enter name\"))\n",
    "age=int(input(\"enter age\"))\n",
    "address=input(\"Enter address\")\n",
    "info=\"hello i am \"+name+\"i am from\"+address+\"and my age is \"+str(age)\n",
    "print(info)\n"
   ]
  },
  {
   "cell_type": "code",
   "execution_count": 25,
   "id": "4c395fc3",
   "metadata": {},
   "outputs": [
    {
     "name": "stdout",
     "output_type": "stream",
     "text": [
      "enter how many user2\n",
      "enter names\n",
      "enter age3\n",
      "s3\n",
      "enter namer\n",
      "enter age3\n",
      "r3\n"
     ]
    }
   ],
   "source": [
    "#string formating\n",
    "s=str()\n",
    "n=int(input(\"enter how many user\"))\n",
    "for i in range(n):\n",
    "    name=(input(\"enter name\"))\n",
    "    age=int(input(\"enter age\"))\n",
    "    info=f\"{name}{age}\"\n",
    "    s=s+info\n",
    "    print(info)    \n",
    "    \n"
   ]
  },
  {
   "cell_type": "code",
   "execution_count": 26,
   "id": "34c2ace4",
   "metadata": {},
   "outputs": [
    {
     "name": "stdout",
     "output_type": "stream",
     "text": [
      "enter how many user2\n",
      "enter namess\n",
      "enter age3\n",
      "enter namerr\n",
      "enter age4\n",
      "rr4\n"
     ]
    }
   ],
   "source": [
    "s=str()\n",
    "n=int(input(\"enter how many user\"))\n",
    "for i in range(n):\n",
    "    name=(input(\"enter name\"))\n",
    "    age=int(input(\"enter age\"))\n",
    "    info=f\"{name}{age}\"\n",
    "    s=s+info\n",
    "    \n",
    "print(info)        \n",
    "    "
   ]
  },
  {
   "cell_type": "code",
   "execution_count": 24,
   "id": "00366718",
   "metadata": {},
   "outputs": [
    {
     "name": "stdout",
     "output_type": "stream",
     "text": [
      "enter namess\n",
      "enter age3\n",
      "Enter addresska\n",
      "hello i am ss i am from ka and my age is 3\n"
     ]
    }
   ],
   "source": [
    "# using string formating\n",
    "name=(input(\"enter name\"))\n",
    "age=int(input(\"enter age\"))\n",
    "address=input(\"Enter address\")\n",
    "info=f\"hello i am {name} i am from {address} and my age is {age}\"\n",
    "print(info)\n"
   ]
  },
  {
   "cell_type": "code",
   "execution_count": 29,
   "id": "11cd23fe",
   "metadata": {},
   "outputs": [
    {
     "name": "stdout",
     "output_type": "stream",
     "text": [
      "enter nameee\n",
      "no\n"
     ]
    }
   ],
   "source": [
    "a=\"ram shyam hari sita gita ram nabin\"\n",
    "name=(input(\"enter name\"))\n",
    "if name in a:\n",
    "    print(\"yes\")\n",
    "else:\n",
    "    print(\"no\")"
   ]
  },
  {
   "cell_type": "code",
   "execution_count": 30,
   "id": "71fcb708",
   "metadata": {},
   "outputs": [
    {
     "name": "stdout",
     "output_type": "stream",
     "text": [
      "enter nameram\n",
      "yes\n",
      "2\n"
     ]
    }
   ],
   "source": [
    "a=\"ram shyam hari sita gita ram nabin\"\n",
    "name=(input(\"enter name\"))\n",
    "if name in a:\n",
    "    print(\"yes\")\n",
    "    print(a.count(name))\n",
    "else:\n",
    "    print(\"no\")"
   ]
  },
  {
   "cell_type": "code",
   "execution_count": 32,
   "id": "8127a168",
   "metadata": {},
   "outputs": [
    {
     "name": "stdout",
     "output_type": "stream",
     "text": [
      "enter name:ram\n",
      "yes\n",
      "2\n"
     ]
    }
   ],
   "source": [
    "a=\"Ram shyam hari sita gita ram nabin\".lower()\n",
    "\n",
    "name=(input(\"enter name:\")).lower()\n",
    "if name in a:\n",
    "    print(\"yes\")\n",
    "    print(a.count(name))\n",
    "else:\n",
    "    print(\"no\")"
   ]
  },
  {
   "cell_type": "code",
   "execution_count": 33,
   "id": "48d01480",
   "metadata": {},
   "outputs": [
    {
     "name": "stdout",
     "output_type": "stream",
     "text": [
      "Ram shyam hari sita gita ram nabin\n"
     ]
    }
   ],
   "source": [
    "#immutable data type: we can se what happen but it remain same\n",
    "a=\"Ram shyam hari sita gita ram nabin\"\n",
    "a.upper()\n",
    "print(a)"
   ]
  },
  {
   "cell_type": "code",
   "execution_count": 34,
   "id": "e16a65f6",
   "metadata": {},
   "outputs": [
    {
     "name": "stdout",
     "output_type": "stream",
     "text": [
      "RAM SHYAM HARI SITA GITA RAM NABIN\n"
     ]
    }
   ],
   "source": [
    "# the above problem is solved by this .it changed then aasigned to that variable so that effect of it as a whole get changed\n",
    "\n",
    "a=\"Ram shyam hari sita gita ram nabin\"\n",
    "a=a.upper()\n",
    "print(a)"
   ]
  },
  {
   "cell_type": "code",
   "execution_count": 37,
   "id": "0aafc46c",
   "metadata": {},
   "outputs": [
    {
     "name": "stdout",
     "output_type": "stream",
     "text": [
      "ram shyam hari sita gita ram nabin\n"
     ]
    }
   ],
   "source": [
    "a=\"Ram shyam hari sita gita ram nabin\".lower()\n",
    "a.replace(\"ram\",\"RAm\")\n",
    "print(a)"
   ]
  },
  {
   "cell_type": "code",
   "execution_count": 42,
   "id": "5e183bf7",
   "metadata": {},
   "outputs": [
    {
     "name": "stdout",
     "output_type": "stream",
     "text": [
      "Ram Shyam Hari Sita Gita Ram Nabin\n"
     ]
    }
   ],
   "source": [
    "a=\"Ram shyam hari sita gita ram nabin\"\n",
    "a=a.title()\n",
    "print(a)"
   ]
  },
  {
   "cell_type": "code",
   "execution_count": 2,
   "id": "6d6e0a9d",
   "metadata": {},
   "outputs": [],
   "source": [
    "#wap to develop a biling application using string and loop\n",
    "# name\n",
    "# price\n",
    "# quantity\n",
    "# total\n",
    "\n",
    "\n",
    "# grand_total"
   ]
  },
  {
   "cell_type": "code",
   "execution_count": 6,
   "id": "89b8271e",
   "metadata": {},
   "outputs": [
    {
     "name": "stdout",
     "output_type": "stream",
     "text": [
      "enter how many user2\n",
      "enter name33\n",
      "enter price2\n",
      "enter quantity4\n",
      "8\n",
      "hello your total is 8\n",
      "8\n",
      "hello your grandtotal is 8\n",
      "enter namerr\n",
      "enter price3\n",
      "enter quantity4\n",
      "12\n",
      "hello your total is 12\n",
      "20\n",
      "hello your grandtotal is 20\n"
     ]
    }
   ],
   "source": [
    "\n",
    "grandtotal=0\n",
    "n=int(input(\"enter how many user\"))\n",
    "for i in range(n):\n",
    "    name=(input(\"enter name\"))\n",
    "    price=int(input(\"enter price\"))\n",
    "    quantity=int(input(\"enter quantity\"))\n",
    "    total=price*quantity\n",
    "    print(total)\n",
    "    info=f\"hello your total is {total}\"\n",
    "    print(info)   \n",
    "    grandtotal=grandtotal+total\n",
    "    print(grandtotal)\n",
    "    infso=f\"hello your grandtotal is {grandtotal}\"\n",
    "    print(infso)\n",
    "   \n",
    "    \n",
    "\n",
    "    \n",
    "\n",
    "    "
   ]
  },
  {
   "cell_type": "code",
   "execution_count": null,
   "id": "656a235a",
   "metadata": {},
   "outputs": [],
   "source": []
  },
  {
   "cell_type": "code",
   "execution_count": null,
   "id": "6c8deef9",
   "metadata": {},
   "outputs": [],
   "source": []
  }
 ],
 "metadata": {
  "kernelspec": {
   "display_name": "Python 3 (ipykernel)",
   "language": "python",
   "name": "python3"
  },
  "language_info": {
   "codemirror_mode": {
    "name": "ipython",
    "version": 3
   },
   "file_extension": ".py",
   "mimetype": "text/x-python",
   "name": "python",
   "nbconvert_exporter": "python",
   "pygments_lexer": "ipython3",
   "version": "3.9.7"
  }
 },
 "nbformat": 4,
 "nbformat_minor": 5
}
