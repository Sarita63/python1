{
 "cells": [
  {
   "cell_type": "code",
   "execution_count": 1,
   "id": "ad61f990",
   "metadata": {},
   "outputs": [],
   "source": [
    "# if <condation>:\n",
    "#     <operations>\n",
    "    \n",
    "# elif <condition>:\n",
    "#     <oparations>\n",
    "    \n",
    "# elif <condition>:\n",
    "#     <operations>\n",
    "    \n",
    "# else:\n",
    "#     <operations>"
   ]
  },
  {
   "cell_type": "code",
   "execution_count": 2,
   "id": "39162183",
   "metadata": {},
   "outputs": [
    {
     "name": "stdout",
     "output_type": "stream",
     "text": [
      "Hello World\n"
     ]
    }
   ],
   "source": [
    "if True:\n",
    "    print(\"Hello World\")"
   ]
  },
  {
   "cell_type": "code",
   "execution_count": 3,
   "id": "a75e2254",
   "metadata": {},
   "outputs": [],
   "source": [
    "# > < <= >= == !="
   ]
  },
  {
   "cell_type": "code",
   "execution_count": 4,
   "id": "f77a9df4",
   "metadata": {},
   "outputs": [
    {
     "data": {
      "text/plain": [
       "False"
      ]
     },
     "execution_count": 4,
     "metadata": {},
     "output_type": "execute_result"
    }
   ],
   "source": [
    "11%2 == 0"
   ]
  },
  {
   "cell_type": "code",
   "execution_count": 5,
   "id": "e8065f0c",
   "metadata": {},
   "outputs": [
    {
     "name": "stdout",
     "output_type": "stream",
     "text": [
      "Enter x = 2\n",
      "The no is even no\n"
     ]
    }
   ],
   "source": [
    "x = int(input(\"Enter x = \"))\n",
    "if x%2 == 0:\n",
    "    print(\"The no is even no\")\n",
    "else:\n",
    "    print(\"The no is odd no\")"
   ]
  },
  {
   "cell_type": "code",
   "execution_count": 6,
   "id": "1e2b68f8",
   "metadata": {},
   "outputs": [
    {
     "name": "stdout",
     "output_type": "stream",
     "text": [
      "Enter x = 2\n",
      "Enter y = 4\n",
      "4 is greater.\n"
     ]
    }
   ],
   "source": [
    "x = int(input(\"Enter x = \"))\n",
    "y = int(input(\"Enter y = \"))\n",
    "if x>y:\n",
    "    print(x,\"is greater.\")\n",
    "elif y>x:\n",
    "    print(y,'is greater.')\n",
    "else:\n",
    "    print(\"Both are equal.\")"
   ]
  },
  {
   "cell_type": "code",
   "execution_count": 7,
   "id": "bcc72b6c",
   "metadata": {},
   "outputs": [
    {
     "name": "stdout",
     "output_type": "stream",
     "text": [
      "Enter x = 2\n",
      "Enter y = 3\n",
      "Enter + - * /  *\n",
      "6\n"
     ]
    }
   ],
   "source": [
    "a = int(input(\"Enter x = \"))\n",
    "b = int(input(\"Enter y = \"))\n",
    "o = input(\"Enter + - * /  \")\n",
    "\n",
    "if o == \"+\":\n",
    "    print(a+b)\n",
    "elif o == \"-\":\n",
    "    print(a-b)\n",
    "elif o == \"*\":\n",
    "    print(a*b)\n",
    "elif o == \"/\":\n",
    "    print(a/b)\n",
    "else:\n",
    "    print(\"Invalid Operator\")"
   ]
  },
  {
   "cell_type": "code",
   "execution_count": 8,
   "id": "c367d829",
   "metadata": {},
   "outputs": [
    {
     "name": "stdout",
     "output_type": "stream",
     "text": [
      "False\n",
      "True\n"
     ]
    }
   ],
   "source": [
    "# and &\n",
    "print(True and False)\n",
    "\n",
    "# or |\n",
    "print(True or False)"
   ]
  },
  {
   "cell_type": "code",
   "execution_count": 9,
   "id": "3c73296f",
   "metadata": {},
   "outputs": [
    {
     "name": "stdout",
     "output_type": "stream",
     "text": [
      "Enter x = 3\n",
      "Enter y = 4\n",
      "Enter + - * /  /\n",
      "0.75\n"
     ]
    }
   ],
   "source": [
    "a = int(input(\"Enter x = \"))\n",
    "b = int(input(\"Enter y = \"))\n",
    "o = input(\"Enter + - * /  \")\n",
    "\n",
    "if o == \"+\":\n",
    "    print(a+b)\n",
    "elif o == \"-\":\n",
    "    print(a-b)\n",
    "elif o == \"*\":\n",
    "    print(a*b)\n",
    "elif (o == \"/\") & (b!= 0):\n",
    "    print(a/b)\n",
    "elif (o == \"/\") & (b == 0):\n",
    "    print(\"The value of b can not be zero.\")\n",
    "else:\n",
    "    print(\"Invalid Operator\")"
   ]
  },
  {
   "cell_type": "code",
   "execution_count": 11,
   "id": "04e0975b",
   "metadata": {},
   "outputs": [
    {
     "name": "stdout",
     "output_type": "stream",
     "text": [
      "Enter per = 69\n",
      "The grade is B\n"
     ]
    }
   ],
   "source": [
    "per = float(input(\"Enter per = \"))\n",
    "if (per > 60) or (per == 60):\n",
    "    print(\"The grade is B\")"
   ]
  },
  {
   "cell_type": "code",
   "execution_count": 12,
   "id": "11cc1a71",
   "metadata": {},
   "outputs": [],
   "source": [
    "# # nested if\n",
    "# if <condition>:\n",
    "#     if <condation>:\n",
    "#         <operations>\n",
    "#     elif <condition>:\n",
    "#         <operations>\n",
    "#     else:\n",
    "#         <operations>\n",
    "        \n",
    "\n",
    "# else:\n",
    "#     <operations>"
   ]
  },
  {
   "cell_type": "code",
   "execution_count": 13,
   "id": "f1206fe2",
   "metadata": {},
   "outputs": [
    {
     "name": "stdout",
     "output_type": "stream",
     "text": [
      "Enter x = 4\n",
      "The no is +ve and even.\n"
     ]
    }
   ],
   "source": [
    "x = int(input(\"Enter x = \"))\n",
    "if x>0:\n",
    "    if x %2 == 0:\n",
    "        print(\"The no is +ve and even.\")\n",
    "    else:\n",
    "        print(\"The no is +ve and odd.\")\n",
    "        \n",
    "else:\n",
    "    print(\"The no is -ve\")"
   ]
  },
  {
   "cell_type": "code",
   "execution_count": 14,
   "id": "df92211e",
   "metadata": {},
   "outputs": [
    {
     "name": "stdout",
     "output_type": "stream",
     "text": [
      "Enter x = 8\n",
      "Enter y = 9\n",
      "Enter + - * /  *\n",
      "72\n"
     ]
    }
   ],
   "source": [
    "a = int(input(\"Enter x = \"))\n",
    "b = int(input(\"Enter y = \"))\n",
    "o = input(\"Enter + - * /  \")\n",
    "\n",
    "if o == \"+\":\n",
    "    print(a+b)\n",
    "elif o == \"-\":\n",
    "    print(a-b)\n",
    "elif o == \"*\":\n",
    "    print(a*b)\n",
    "elif o == \"/\":\n",
    "    if b != 0:\n",
    "        print(a/b)\n",
    "    else:\n",
    "        print(\"The value of b can not be zero.\")\n",
    "        \n",
    "else:\n",
    "    print(\"Invalid Operator\")"
   ]
  },
  {
   "cell_type": "code",
   "execution_count": null,
   "id": "f615df47",
   "metadata": {},
   "outputs": [],
   "source": []
  }
 ],
 "metadata": {
  "kernelspec": {
   "display_name": "Python 3 (ipykernel)",
   "language": "python",
   "name": "python3"
  },
  "language_info": {
   "codemirror_mode": {
    "name": "ipython",
    "version": 3
   },
   "file_extension": ".py",
   "mimetype": "text/x-python",
   "name": "python",
   "nbconvert_exporter": "python",
   "pygments_lexer": "ipython3",
   "version": "3.9.7"
  }
 },
 "nbformat": 4,
 "nbformat_minor": 5
}
