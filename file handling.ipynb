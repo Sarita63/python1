{
 "cells": [
  {
   "cell_type": "code",
   "execution_count": 1,
   "id": "92acc7fa",
   "metadata": {},
   "outputs": [],
   "source": [
    "#here we work on idff  types of modes\n"
   ]
  },
  {
   "cell_type": "code",
   "execution_count": 2,
   "id": "5259fa60",
   "metadata": {},
   "outputs": [],
   "source": [
    "# syntax:\n",
    "#     open(<filename>,modes)\n",
    "# modes:\n",
    "#     create->x\n",
    "#     read->r\n",
    "#     wrute->w\n",
    "#     append->a\n"
   ]
  },
  {
   "cell_type": "code",
   "execution_count": 6,
   "id": "22155283",
   "metadata": {},
   "outputs": [],
   "source": [
    "b=open('data.txt','x')\n",
    "b.close()"
   ]
  },
  {
   "cell_type": "code",
   "execution_count": 11,
   "id": "3e2ed6eb",
   "metadata": {},
   "outputs": [
    {
     "data": {
      "text/plain": [
       "'C:\\\\Users\\\\LENOVO\\\\Untitled Folder 1'"
      ]
     },
     "execution_count": 11,
     "metadata": {},
     "output_type": "execute_result"
    }
   ],
   "source": [
    "pwd"
   ]
  },
  {
   "cell_type": "code",
   "execution_count": 13,
   "id": "faa1d542",
   "metadata": {},
   "outputs": [
    {
     "ename": "FileExistsError",
     "evalue": "[Errno 17] File exists: 'data.txt'",
     "output_type": "error",
     "traceback": [
      "\u001b[1;31m---------------------------------------------------------------------------\u001b[0m",
      "\u001b[1;31mFileExistsError\u001b[0m                           Traceback (most recent call last)",
      "\u001b[1;32m~\\AppData\\Local\\Temp/ipykernel_8320/1389021958.py\u001b[0m in \u001b[0;36m<module>\u001b[1;34m\u001b[0m\n\u001b[1;32m----> 1\u001b[1;33m \u001b[0mb\u001b[0m\u001b[1;33m=\u001b[0m\u001b[0mopen\u001b[0m\u001b[1;33m(\u001b[0m\u001b[1;34m'data.txt'\u001b[0m\u001b[1;33m,\u001b[0m\u001b[1;34m'x'\u001b[0m\u001b[1;33m)\u001b[0m\u001b[1;33m\u001b[0m\u001b[1;33m\u001b[0m\u001b[0m\n\u001b[0m\u001b[0;32m      2\u001b[0m \u001b[0mb\u001b[0m\u001b[1;33m.\u001b[0m\u001b[0mclose\u001b[0m\u001b[1;33m(\u001b[0m\u001b[1;33m)\u001b[0m\u001b[1;33m\u001b[0m\u001b[1;33m\u001b[0m\u001b[0m\n",
      "\u001b[1;31mFileExistsError\u001b[0m: [Errno 17] File exists: 'data.txt'"
     ]
    }
   ],
   "source": [
    "b=open('data.txt','x')\n",
    "b.close()"
   ]
  },
  {
   "cell_type": "code",
   "execution_count": 15,
   "id": "ba444538",
   "metadata": {},
   "outputs": [],
   "source": [
    "# in above file exist error which is exception so to solve this we use try block"
   ]
  },
  {
   "cell_type": "code",
   "execution_count": 17,
   "id": "610d22f2",
   "metadata": {},
   "outputs": [
    {
     "name": "stdout",
     "output_type": "stream",
     "text": [
      "the file is already there\n"
     ]
    }
   ],
   "source": [
    "try:\n",
    "    b=open('data.txt','x')\n",
    "    b.close()\n",
    "except:\n",
    "    print(\"the file is already there\")"
   ]
  },
  {
   "cell_type": "code",
   "execution_count": 18,
   "id": "b6a630c2",
   "metadata": {},
   "outputs": [
    {
     "data": {
      "text/plain": [
       "'C:\\\\Users\\\\LENOVO\\\\Untitled Folder 1'"
      ]
     },
     "execution_count": 18,
     "metadata": {},
     "output_type": "execute_result"
    }
   ],
   "source": [
    "pwd"
   ]
  },
  {
   "cell_type": "code",
   "execution_count": 20,
   "id": "b7494141",
   "metadata": {},
   "outputs": [
    {
     "name": "stdout",
     "output_type": "stream",
     "text": [
      "hello world\n",
      "hello world\n",
      "helo world\n",
      "hello world\n",
      "hello world\n",
      "hello world\n",
      "hello world\n",
      "hello world\n",
      "\n"
     ]
    }
   ],
   "source": [
    "b=open('data.txt','r')\n",
    "print(b.read())\n",
    "b.close()"
   ]
  },
  {
   "cell_type": "code",
   "execution_count": 21,
   "id": "a7bdcc6c",
   "metadata": {},
   "outputs": [
    {
     "name": "stdout",
     "output_type": "stream",
     "text": [
      "hello world\n",
      "hello world\n",
      "helo world\n",
      "hello world\n",
      "hello world\n",
      "hello world\n",
      "hello world\n",
      "hello world\n",
      "\n"
     ]
    }
   ],
   "source": [
    "with open('data.txt','r') as b:\n",
    "    print(b.read())"
   ]
  },
  {
   "cell_type": "code",
   "execution_count": 22,
   "id": "c01ce98d",
   "metadata": {},
   "outputs": [
    {
     "name": "stdout",
     "output_type": "stream",
     "text": [
      "<class 'str'>\n",
      "hello world\n",
      "hello world\n",
      "helo world\n",
      "hello world\n",
      "hello world\n",
      "hello world\n",
      "hello world\n",
      "hello world\n",
      "\n"
     ]
    }
   ],
   "source": [
    "with open('data.txt','r') as b:\n",
    "    x=(b.read())\n",
    "    print(type(x))\n",
    "    print(x)\n",
    "    "
   ]
  },
  {
   "cell_type": "code",
   "execution_count": 29,
   "id": "1b6ae225",
   "metadata": {},
   "outputs": [
    {
     "name": "stdout",
     "output_type": "stream",
     "text": [
      "<class 'list'>\n",
      "['hello world', 'hello world', 'helo world', 'hello world', 'hello world', 'hello world', 'hello world', 'hello world', '']\n"
     ]
    }
   ],
   "source": [
    "with open('data.txt','r') as b:\n",
    "    x=b.read().split('\\n')\n",
    "    print(type(x))\n",
    "    print(x)\n",
    "    "
   ]
  },
  {
   "cell_type": "code",
   "execution_count": 30,
   "id": "a050c561",
   "metadata": {},
   "outputs": [
    {
     "name": "stdout",
     "output_type": "stream",
     "text": [
      "enter line no:2\n",
      "hello world\n"
     ]
    }
   ],
   "source": [
    "line_no=int(input(\"enter line no:\"))\n",
    "print(x[line_no-1])"
   ]
  },
  {
   "cell_type": "code",
   "execution_count": 31,
   "id": "a6ef17fc",
   "metadata": {},
   "outputs": [],
   "source": [
    "b=open('datas.txt','w')\n",
    "b.write('hello i am python')\n",
    "b.close()"
   ]
  },
  {
   "cell_type": "code",
   "execution_count": 33,
   "id": "9d978356",
   "metadata": {},
   "outputs": [
    {
     "name": "stdout",
     "output_type": "stream",
     "text": [
      "enter how many user2\n",
      "enter nameram\n",
      "enter age2\n",
      "enter nameshyam\n",
      "enter age3\n",
      "shyam3\n"
     ]
    }
   ],
   "source": [
    "s=str()\n",
    "n=int(input(\"enter how many user\"))\n",
    "for i in range(n):\n",
    "    name=(input(\"enter name\"))\n",
    "    age=int(input(\"enter age\"))\n",
    "    info=f\"{name}{age}\"\n",
    "    s=s+info\n",
    "    \n",
    "print(info)        \n",
    "\n",
    "b=open('datas.txt','w')\n",
    "b.write(s)\n",
    "b.close()"
   ]
  },
  {
   "cell_type": "code",
   "execution_count": 35,
   "id": "64914387",
   "metadata": {},
   "outputs": [
    {
     "name": "stdout",
     "output_type": "stream",
     "text": [
      "enter how many user2\n",
      "enter nameram\n",
      "enter age2\n",
      "enter nameshyam\n",
      "enter age3\n",
      "shyam,3\n",
      "\n"
     ]
    }
   ],
   "source": [
    "#for csv filre there must be comma include bhetween 2 value.\n",
    "\n",
    "s=str()\n",
    "n=int(input(\"enter how many user\"))\n",
    "for i in range(n):\n",
    "    name=(input(\"enter name\"))\n",
    "    age=int(input(\"enter age\"))\n",
    "    info=f\"{name},{age}\\n\"\n",
    "    s=s+info\n",
    "    \n",
    "print(info)        \n",
    "\n",
    "b=open('datas.csv','w')\n",
    "b.write(s)\n",
    "b.close()"
   ]
  },
  {
   "cell_type": "code",
   "execution_count": 38,
   "id": "0902362f",
   "metadata": {},
   "outputs": [
    {
     "name": "stdout",
     "output_type": "stream",
     "text": [
      "enter how many user2\n",
      "enter nameram\n",
      "enter age2\n",
      "enter nameshyam\n",
      "enter age3\n",
      "ram,2\n",
      "shyam,3\n",
      "\n"
     ]
    }
   ],
   "source": [
    "s=str()\n",
    "n=int(input(\"enter how many user\"))\n",
    "for i in range(n):\n",
    "    name=(input(\"enter name\"))\n",
    "    age=int(input(\"enter age\"))\n",
    "    info=f\"{name},{age}\\n\"\n",
    "    s=s+info\n",
    "    \n",
    "print(s)        \n",
    "\n",
    "b=open('datas.csv','w')\n",
    "b.write('name,age\\n')\n",
    "\n",
    "b.write(s)\n",
    "b.close()"
   ]
  },
  {
   "cell_type": "code",
   "execution_count": 40,
   "id": "c341e7d4",
   "metadata": {},
   "outputs": [
    {
     "data": {
      "text/html": [
       "<div>\n",
       "<style scoped>\n",
       "    .dataframe tbody tr th:only-of-type {\n",
       "        vertical-align: middle;\n",
       "    }\n",
       "\n",
       "    .dataframe tbody tr th {\n",
       "        vertical-align: top;\n",
       "    }\n",
       "\n",
       "    .dataframe thead th {\n",
       "        text-align: right;\n",
       "    }\n",
       "</style>\n",
       "<table border=\"1\" class=\"dataframe\">\n",
       "  <thead>\n",
       "    <tr style=\"text-align: right;\">\n",
       "      <th></th>\n",
       "      <th>name</th>\n",
       "      <th>age</th>\n",
       "    </tr>\n",
       "  </thead>\n",
       "  <tbody>\n",
       "    <tr>\n",
       "      <th>0</th>\n",
       "      <td>ram</td>\n",
       "      <td>2</td>\n",
       "    </tr>\n",
       "    <tr>\n",
       "      <th>1</th>\n",
       "      <td>shyam</td>\n",
       "      <td>3</td>\n",
       "    </tr>\n",
       "  </tbody>\n",
       "</table>\n",
       "</div>"
      ],
      "text/plain": [
       "    name  age\n",
       "0    ram    2\n",
       "1  shyam    3"
      ]
     },
     "execution_count": 40,
     "metadata": {},
     "output_type": "execute_result"
    }
   ],
   "source": [
    "import pandas as pd\n",
    "df=pd.read_csv('datas.csv')                                  \n",
    "df"
   ]
  },
  {
   "cell_type": "code",
   "execution_count": null,
   "id": "8ce361d7",
   "metadata": {},
   "outputs": [],
   "source": [
    "#large amount of data in csv then we  use pandas 'it is data frame '.pandas data type is data frame"
   ]
  }
 ],
 "metadata": {
  "kernelspec": {
   "display_name": "Python 3 (ipykernel)",
   "language": "python",
   "name": "python3"
  },
  "language_info": {
   "codemirror_mode": {
    "name": "ipython",
    "version": 3
   },
   "file_extension": ".py",
   "mimetype": "text/x-python",
   "name": "python",
   "nbconvert_exporter": "python",
   "pygments_lexer": "ipython3",
   "version": "3.9.7"
  }
 },
 "nbformat": 4,
 "nbformat_minor": 5
}
