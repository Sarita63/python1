{
 "cells": [
  {
   "cell_type": "code",
   "execution_count": 1,
   "id": "86af8a3a",
   "metadata": {},
   "outputs": [],
   "source": [
    "# Dictionary\n",
    "# Indexed\n",
    "# Ordered\n",
    "# Multiple data\n",
    "# Mutable"
   ]
  },
  {
   "cell_type": "code",
   "execution_count": 5,
   "id": "f29b1419",
   "metadata": {},
   "outputs": [
    {
     "name": "stdout",
     "output_type": "stream",
     "text": [
      "{'a': 'sarita', 'b': 'prastae', 3: 'sami'}\n",
      "<class 'dict'>\n"
     ]
    }
   ],
   "source": [
    "#  a = {<Key>:<value>,<key>:<value>}\n",
    "a={'a':'sarita','b':'prastae',3:'sami'}  \n",
    "print(a)\n",
    "print(type(a))\n"
   ]
  },
  {
   "cell_type": "code",
   "execution_count": 8,
   "id": "d9385ab7",
   "metadata": {},
   "outputs": [
    {
     "name": "stdout",
     "output_type": "stream",
     "text": [
      "prastae\n"
     ]
    }
   ],
   "source": [
    "print(a['b'])"
   ]
  },
  {
   "cell_type": "code",
   "execution_count": 9,
   "id": "4a1e2561",
   "metadata": {},
   "outputs": [
    {
     "name": "stdout",
     "output_type": "stream",
     "text": [
      "sami\n"
     ]
    }
   ],
   "source": [
    "print(a[3])"
   ]
  },
  {
   "cell_type": "code",
   "execution_count": 10,
   "id": "7df013f9",
   "metadata": {},
   "outputs": [
    {
     "name": "stdout",
     "output_type": "stream",
     "text": [
      "3\n"
     ]
    }
   ],
   "source": [
    "a = {'a':\"Apple\",'b':\"Ball\",'c':'Cat'}\n",
    "print(len(a))"
   ]
  },
  {
   "cell_type": "code",
   "execution_count": 11,
   "id": "fa51207e",
   "metadata": {},
   "outputs": [
    {
     "data": {
      "text/plain": [
       "{'a': 'Apple', 'b': 'Ball', 'c': 'Cat'}"
      ]
     },
     "execution_count": 11,
     "metadata": {},
     "output_type": "execute_result"
    }
   ],
   "source": [
    "\n",
    "a = {}\n",
    "a['a'] = \"Apple\"\n",
    "a['b'] = \"Ball\"\n",
    "a['c'] = \"Cat\"\n",
    "a"
   ]
  },
  {
   "cell_type": "code",
   "execution_count": 13,
   "id": "69f36775",
   "metadata": {},
   "outputs": [
    {
     "name": "stdout",
     "output_type": "stream",
     "text": [
      "Enter n = 2\n",
      "Enter name = sarita\n",
      "Enter phone = 789\n",
      "Enter name = ashna\n",
      "Enter phone = 908\n",
      "{'sarita': 789, 'ashna': 908}\n"
     ]
    }
   ],
   "source": [
    "data = {}\n",
    "n = int(input(\"Enter n = \"))\n",
    "for i in range(n):\n",
    "    name = input(\"Enter name = \")\n",
    "    phone = int(input(\"Enter phone = \"))\n",
    "    data[name] = phone\n",
    "    \n",
    "print(data)"
   ]
  },
  {
   "cell_type": "code",
   "execution_count": 14,
   "id": "9701c3e5",
   "metadata": {},
   "outputs": [
    {
     "name": "stdout",
     "output_type": "stream",
     "text": [
      "Ram\n",
      "Shyam\n"
     ]
    }
   ],
   "source": [
    "a = {'Ram': 9809887865, 'Shyam': 9809778765}\n",
    "for i in a:\n",
    "    print(i)"
   ]
  },
  {
   "cell_type": "code",
   "execution_count": 15,
   "id": "f8448863",
   "metadata": {},
   "outputs": [
    {
     "name": "stdout",
     "output_type": "stream",
     "text": [
      "9809887865\n",
      "9809778765\n"
     ]
    }
   ],
   "source": [
    "a = {'Ram': 9809887865, 'Shyam': 9809778765}\n",
    "for i in a.values():\n",
    "    print(i)\n",
    "    "
   ]
  },
  {
   "cell_type": "code",
   "execution_count": 16,
   "id": "10b59def",
   "metadata": {},
   "outputs": [
    {
     "name": "stdout",
     "output_type": "stream",
     "text": [
      "('Ram', 9809887865)\n",
      "('Shyam', 9809778765)\n"
     ]
    }
   ],
   "source": [
    "a = {'Ram': 9809887865, 'Shyam': 9809778765}\n",
    "for i in a.items():\n",
    "    print(i)\n",
    "    "
   ]
  },
  {
   "cell_type": "code",
   "execution_count": 17,
   "id": "e88e1d0f",
   "metadata": {},
   "outputs": [
    {
     "name": "stdout",
     "output_type": "stream",
     "text": [
      "{'Shyam': 9809778765}\n"
     ]
    }
   ],
   "source": [
    "a = {'Ram': 9809887865, 'Shyam': 9809778765}\n",
    "del a['Ram']\n",
    "\n",
    "print(a)\n"
   ]
  },
  {
   "cell_type": "code",
   "execution_count": 18,
   "id": "a9a0a20f",
   "metadata": {},
   "outputs": [
    {
     "name": "stdout",
     "output_type": "stream",
     "text": [
      "{'Shyam': 9809778765}\n",
      "9809887865\n"
     ]
    }
   ],
   "source": [
    "a = {'Ram': 9809887865, 'Shyam': 9809778765}\n",
    "b = a.pop('Ram')\n",
    "print(a)\n",
    "print(b)"
   ]
  },
  {
   "cell_type": "code",
   "execution_count": 19,
   "id": "0b5b99cf",
   "metadata": {},
   "outputs": [
    {
     "name": "stdout",
     "output_type": "stream",
     "text": [
      "Enter n = 2\n",
      "Enter name = sarita\n",
      "Enter ntc no = 98\n",
      "Enter ncell_no = 099\n",
      "Enter name = ashna\n",
      "Enter ntc no = 876\n",
      "Enter ncell_no = 567\n",
      "{'sarita': [98, 99], 'ashna': [876, 567]}\n"
     ]
    }
   ],
   "source": [
    "#list inside dictionary\n",
    "# a = {'Ram': [9809887865,9808778765], 'Shyam': [9809778765,9808667654]}\n",
    "info = {}\n",
    "n = int(input(\"Enter n = \"))\n",
    "for i in range(n):\n",
    "    name = input(\"Enter name = \")\n",
    "    ntc_phone = int(input(\"Enter ntc no = \"))\n",
    "    ncell_phone = int(input(\"Enter ncell_no = \"))\n",
    "    info[name] = [ntc_phone,ncell_phone]\n",
    "print(info)"
   ]
  },
  {
   "cell_type": "code",
   "execution_count": 24,
   "id": "f413e2e9",
   "metadata": {},
   "outputs": [
    {
     "data": {
      "text/plain": [
       "[987656756, 9877567878]"
      ]
     },
     "execution_count": 24,
     "metadata": {},
     "output_type": "execute_result"
    }
   ],
   "source": [
    "a = {'Ram': [9867667654, 9878979978], 'Shyam': [987656756, 9877567878]}\n",
    "a['Shyam']\n"
   ]
  },
  {
   "cell_type": "code",
   "execution_count": 25,
   "id": "3efd2eb5",
   "metadata": {},
   "outputs": [
    {
     "data": {
      "text/plain": [
       "[9867667654, 9878979978, 9808667654]"
      ]
     },
     "execution_count": 25,
     "metadata": {},
     "output_type": "execute_result"
    }
   ],
   "source": [
    "a = {'Ram': [9867667654, 9878979978], 'Shyam': [987656756, 9877567878]}\n",
    "a['Ram'].append(9808667654)\n",
    "a['Ram']"
   ]
  },
  {
   "cell_type": "code",
   "execution_count": 26,
   "id": "8fd1f77f",
   "metadata": {},
   "outputs": [
    {
     "data": {
      "text/plain": [
       "{'Ram': [9867667654, 9878979978, 9808667654], 'Shyam': [987656756, 9877567878]}"
      ]
     },
     "execution_count": 26,
     "metadata": {},
     "output_type": "execute_result"
    }
   ],
   "source": [
    "a = {'Ram': [9867667654, 9878979978], 'Shyam': [987656756, 9877567878]}\n",
    "a['Ram'].append(9808667654)\n",
    "a"
   ]
  },
  {
   "cell_type": "code",
   "execution_count": 27,
   "id": "0292e13e",
   "metadata": {},
   "outputs": [
    {
     "data": {
      "text/plain": [
       "{'Ram': [9867667654, 9878979978, 9808667654],\n",
       " 'Shyam': [987656756, 9877567878],\n",
       " 'Hari': [9856556543, 98787765478]}"
      ]
     },
     "execution_count": 27,
     "metadata": {},
     "output_type": "execute_result"
    }
   ],
   "source": [
    "a['Hari'] = [9856556543,98787765478]\n",
    "a"
   ]
  },
  {
   "cell_type": "code",
   "execution_count": 28,
   "id": "4a1090f5",
   "metadata": {},
   "outputs": [],
   "source": [
    "a = {'Name':[\"Ram\",\"Shyam\"],\n",
    "     'NTC':[984778765,9845667654],\n",
    "    'NCELL':[9808667654,9808667654]}"
   ]
  },
  {
   "cell_type": "code",
   "execution_count": 29,
   "id": "a50356ec",
   "metadata": {},
   "outputs": [
    {
     "name": "stdout",
     "output_type": "stream",
     "text": [
      "Enter n = 2\n",
      "Enter name = sarita\n",
      "Enter ntc no = 908\n",
      "Enter ncell_no = 9766\n",
      "Enter name = ashna\n",
      "Enter ntc no = 64748\n",
      "Enter ncell_no = 7900\n",
      "{'Name': ['sarita', 'ashna'], 'NTC': [908, 64748], 'NCELL': [9766, 7900]}\n"
     ]
    }
   ],
   "source": [
    "info = {'Name':[],'NTC':[],'NCELL':[]}\n",
    "\n",
    "n = int(input(\"Enter n = \"))\n",
    "for i in range(n):\n",
    "    name = input(\"Enter name = \")\n",
    "    ntc_phone = int(input(\"Enter ntc no = \"))\n",
    "    ncell_phone = int(input(\"Enter ncell_no = \"))\n",
    "    info[\"Name\"].append(name)\n",
    "    info[\"NTC\"].append(ntc_phone)\n",
    "    info['NCELL'].append(ncell_phone)\n",
    "    \n",
    "print(info)"
   ]
  },
  {
   "cell_type": "code",
   "execution_count": 30,
   "id": "4fbc645e",
   "metadata": {},
   "outputs": [
    {
     "data": {
      "text/plain": [
       "{'Name': 'Ram', 'Age': 45, 'Add': 'Kathmandu'}"
      ]
     },
     "execution_count": 30,
     "metadata": {},
     "output_type": "execute_result"
    }
   ],
   "source": [
    "info = [{'Name':'Ram','Age':45,'Add':'Kathmandu'},\n",
    "       {'Name':'Shyam','Age':34,'Add':'Bhaktapur'},\n",
    "       {'Name':'Hari','Age':44,'Add':'Lalitpur'},\n",
    "       {'Name':'Sita','Age':34,'Add':'Kathmandu'}]\n",
    "\n",
    "info[0]"
   ]
  },
  {
   "cell_type": "code",
   "execution_count": 31,
   "id": "3579fc2c",
   "metadata": {},
   "outputs": [
    {
     "data": {
      "text/plain": [
       "'Ram'"
      ]
     },
     "execution_count": 31,
     "metadata": {},
     "output_type": "execute_result"
    }
   ],
   "source": [
    "info[0]['Name']"
   ]
  },
  {
   "cell_type": "code",
   "execution_count": 32,
   "id": "647f96f8",
   "metadata": {},
   "outputs": [
    {
     "data": {
      "text/plain": [
       "[{'Name': 'Ram Prasad', 'Age': 45, 'Add': 'Kathmandu'},\n",
       " {'Name': 'Shyam', 'Age': 34, 'Add': 'Bhaktapur'},\n",
       " {'Name': 'Hari', 'Age': 44, 'Add': 'Lalitpur'},\n",
       " {'Name': 'Sita', 'Age': 34, 'Add': 'Kathmandu'}]"
      ]
     },
     "execution_count": 32,
     "metadata": {},
     "output_type": "execute_result"
    }
   ],
   "source": [
    "info[0]['Name'] = \"Ram Prasad\"\n",
    "info"
   ]
  },
  {
   "cell_type": "code",
   "execution_count": 33,
   "id": "fd0e6ca6",
   "metadata": {},
   "outputs": [
    {
     "name": "stdout",
     "output_type": "stream",
     "text": [
      "Enter n = 2\n",
      "Enter name = sami\n",
      "Enter age = 3\n",
      "Enter add = bhat\n",
      "Enter name = ashna\n",
      "Enter age = 7\n",
      "Enter add = nakhu\n",
      "[{'Name': 'sami', 'Age ': 3, 'Add': 'bhat'}, {'Name': 'ashna', 'Age ': 7, 'Add': 'nakhu'}]\n"
     ]
    }
   ],
   "source": [
    "info = []\n",
    "n = int(input(\"Enter n = \"))\n",
    "for i in range(n):\n",
    "    name = input(\"Enter name = \")\n",
    "    age = int(input(\"Enter age = \"))\n",
    "    add = input(\"Enter add = \")\n",
    "    data = {\"Name\":name,\"Age \":age,\"Add\":add}\n",
    "    info.append(data)\n",
    "print(info)"
   ]
  },
  {
   "cell_type": "code",
   "execution_count": 35,
   "id": "b998e5eb",
   "metadata": {},
   "outputs": [
    {
     "name": "stdout",
     "output_type": "stream",
     "text": [
      "Enter product name = coke\n",
      "Enter quantity = 100\n",
      "10000\n"
     ]
    }
   ],
   "source": [
    "data = {'coke':100,'pizza':150,'mo-mo':100}\n",
    "\n",
    "\n",
    "product = input('Enter product name = ')\n",
    "price = data[product]\n",
    "quantity = int(input(\"Enter quantity = \"))\n",
    "\n",
    "total = price*quantity\n",
    "print(total)"
   ]
  },
  {
   "cell_type": "code",
   "execution_count": 36,
   "id": "a37c39ca",
   "metadata": {},
   "outputs": [
    {
     "name": "stdout",
     "output_type": "stream",
     "text": [
      "{111234: {'Name': 'Ram Prasad', 'Age': 45, 'Add': 'Kathmandu'}, 223432: {'Name': 'Shyam', 'Age': 34, 'Add': 'Bhaktapur'}, 334321: {'Name': 'Hari', 'Age': 44, 'Add': 'Lalitpur'}, 434572: {'Name': 'Sita', 'Age': 34, 'Add': 'Kathmandu'}}\n"
     ]
    }
   ],
   "source": [
    "# dict inside dict\n",
    "a = {111234:{'Name': 'Ram Prasad', 'Age': 45, 'Add': 'Kathmandu'},\n",
    "     223432:{'Name': 'Shyam', 'Age': 34, 'Add': 'Bhaktapur'},\n",
    "     334321:{'Name': 'Hari', 'Age': 44, 'Add': 'Lalitpur'},\n",
    "     434572:{'Name': 'Sita', 'Age': 34, 'Add': 'Kathmandu'}}\n",
    "print(a)"
   ]
  },
  {
   "cell_type": "code",
   "execution_count": 37,
   "id": "ed505924",
   "metadata": {},
   "outputs": [
    {
     "name": "stdout",
     "output_type": "stream",
     "text": [
      "{'Name': 'Ram Prasad', 'Age': 45, 'Add': 'Kathmandu'}\n"
     ]
    }
   ],
   "source": [
    "print(a[111234])"
   ]
  },
  {
   "cell_type": "code",
   "execution_count": 38,
   "id": "2d0fb67b",
   "metadata": {},
   "outputs": [
    {
     "data": {
      "text/plain": [
       "{111234: {'Name': 'Ram Prasad', 'Age': 45, 'Add': 'Kathmandu'},\n",
       " 223432: {'Name': 'Shyam', 'Age': 34, 'Add': 'Bhaktapur'},\n",
       " 334321: {'Name': 'Hari', 'Age': 44, 'Add': 'Lalitpur'},\n",
       " 434572: {'Name': 'Sita', 'Age': 34, 'Add': 'Kathmandu'},\n",
       " 453456: {'Name': 'Sabin', 'Age': 56, 'Add': 'Kathmandu'}}"
      ]
     },
     "execution_count": 38,
     "metadata": {},
     "output_type": "execute_result"
    }
   ],
   "source": [
    "a [453456] = {'Name':'Sabin','Age':56,'Add':'Kathmandu'}\n",
    "a"
   ]
  },
  {
   "cell_type": "code",
   "execution_count": null,
   "id": "60bbefdc",
   "metadata": {},
   "outputs": [],
   "source": [
    "# WAP to create dict inside dict"
   ]
  }
 ],
 "metadata": {
  "kernelspec": {
   "display_name": "Python 3 (ipykernel)",
   "language": "python",
   "name": "python3"
  },
  "language_info": {
   "codemirror_mode": {
    "name": "ipython",
    "version": 3
   },
   "file_extension": ".py",
   "mimetype": "text/x-python",
   "name": "python",
   "nbconvert_exporter": "python",
   "pygments_lexer": "ipython3",
   "version": "3.9.7"
  }
 },
 "nbformat": 4,
 "nbformat_minor": 5
}
