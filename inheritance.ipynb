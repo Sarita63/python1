{
 "cells": [
  {
   "cell_type": "code",
   "execution_count": 1,
   "id": "79f55ff1",
   "metadata": {},
   "outputs": [],
   "source": [
    "# class a:\n",
    "#     pass\n",
    "# class b(a):\n",
    "#     pass\n",
    "# obj=b()\n"
   ]
  },
  {
   "cell_type": "code",
   "execution_count": 11,
   "id": "cef44139",
   "metadata": {},
   "outputs": [
    {
     "name": "stdout",
     "output_type": "stream",
     "text": [
      "enter name=sarita\n",
      "enter add=hattiban\n",
      "hello my name is sarita.i am form hattiban\n"
     ]
    }
   ],
   "source": [
    "class A:\n",
    "    def __init__(self):\n",
    "        self.name=input(\"enter name=\")\n",
    "        self.add=input(\"enter add=\")\n",
    "                    \n",
    "class B(A): \n",
    "    def info(self):\n",
    "         print(f\"hello my name is {self.name}.i am form {self.add}\")  \n",
    "                    \n",
    "obj=B()\n",
    "obj.info()                    \n",
    "                    \n",
    "                    \n",
    "        "
   ]
  },
  {
   "cell_type": "code",
   "execution_count": 14,
   "id": "b499d20c",
   "metadata": {},
   "outputs": [
    {
     "name": "stdout",
     "output_type": "stream",
     "text": [
      "enter name=sarita\n",
      "enter add=hattiban\n",
      "hello my name is sarita.i am form hattiban\n"
     ]
    }
   ],
   "source": [
    "class A:\n",
    "    def __init__(self,name,add):\n",
    "        self.name=name\n",
    "        self.add=add\n",
    "                    \n",
    "class B(A): \n",
    "    def info(self):\n",
    "         print(f\"hello my name is {self.name}.i am form {self.add}\")  \n",
    "            \n",
    "name=input(\"enter name=\")\n",
    "add=input(\"enter add=\")            \n",
    "                    \n",
    "obj=B(name,add)\n",
    "obj.info()                    \n",
    "                    \n",
    "                    "
   ]
  },
  {
   "cell_type": "code",
   "execution_count": 15,
   "id": "ffc9906f",
   "metadata": {},
   "outputs": [],
   "source": [
    "# multilevel inheritance\n",
    "# class a:\n",
    "#     pass\n",
    "# class b(a):\n",
    "#     pass\n",
    "# class c(b):\n",
    "#     pass\n",
    "\n",
    "# obj=c()\n",
    "\n",
    "    "
   ]
  },
  {
   "cell_type": "code",
   "execution_count": 16,
   "id": "896f5475",
   "metadata": {},
   "outputs": [],
   "source": [
    "# multiple inheritance\n",
    "# class a:\n",
    "#     pass\n",
    "# class b:\n",
    "#     pass\n",
    "# class c(a,b):\n",
    "#      pass\n",
    "\n",
    "# obj=c()\n",
    "\n",
    "    "
   ]
  },
  {
   "cell_type": "code",
   "execution_count": 25,
   "id": "23fb1987",
   "metadata": {},
   "outputs": [
    {
     "ename": "TypeError",
     "evalue": "__init__() takes 2 positional arguments but 3 were given",
     "output_type": "error",
     "traceback": [
      "\u001b[1;31m---------------------------------------------------------------------------\u001b[0m",
      "\u001b[1;31mTypeError\u001b[0m                                 Traceback (most recent call last)",
      "\u001b[1;32m~\\AppData\\Local\\Temp/ipykernel_7496/1250084521.py\u001b[0m in \u001b[0;36m<module>\u001b[1;34m\u001b[0m\n\u001b[0;32m     19\u001b[0m     \u001b[1;32mdef\u001b[0m \u001b[0minfo\u001b[0m\u001b[1;33m(\u001b[0m\u001b[0mself\u001b[0m\u001b[1;33m)\u001b[0m\u001b[1;33m:\u001b[0m\u001b[1;33m\u001b[0m\u001b[1;33m\u001b[0m\u001b[0m\n\u001b[0;32m     20\u001b[0m         \u001b[0mprint\u001b[0m\u001b[1;33m(\u001b[0m\u001b[1;34mf\"my name is {self.name} i am form {self.add}  i am {self.age} \"\u001b[0m\u001b[1;33m)\u001b[0m\u001b[1;33m\u001b[0m\u001b[1;33m\u001b[0m\u001b[0m\n\u001b[1;32m---> 21\u001b[1;33m \u001b[0mobj\u001b[0m\u001b[1;33m=\u001b[0m\u001b[0mc\u001b[0m\u001b[1;33m(\u001b[0m\u001b[1;34m\"ram\"\u001b[0m\u001b[1;33m,\u001b[0m\u001b[1;36m66\u001b[0m\u001b[1;33m,\u001b[0m\u001b[1;34m\"ktm\"\u001b[0m\u001b[1;33m)\u001b[0m\u001b[1;33m\u001b[0m\u001b[1;33m\u001b[0m\u001b[0m\n\u001b[0m\u001b[0;32m     22\u001b[0m \u001b[0mobj\u001b[0m\u001b[1;33m.\u001b[0m\u001b[0minfo\u001b[0m\u001b[1;33m(\u001b[0m\u001b[1;33m)\u001b[0m\u001b[1;33m\u001b[0m\u001b[1;33m\u001b[0m\u001b[0m\n",
      "\u001b[1;32m~\\AppData\\Local\\Temp/ipykernel_7496/1250084521.py\u001b[0m in \u001b[0;36m__init__\u001b[1;34m(self, name, age, add)\u001b[0m\n\u001b[0;32m     14\u001b[0m     \u001b[1;32mdef\u001b[0m \u001b[0m__init__\u001b[0m\u001b[1;33m(\u001b[0m\u001b[0mself\u001b[0m\u001b[1;33m,\u001b[0m\u001b[0mname\u001b[0m\u001b[1;33m,\u001b[0m\u001b[0mage\u001b[0m\u001b[1;33m,\u001b[0m\u001b[0madd\u001b[0m\u001b[1;33m)\u001b[0m\u001b[1;33m:\u001b[0m\u001b[1;33m\u001b[0m\u001b[1;33m\u001b[0m\u001b[0m\n\u001b[0;32m     15\u001b[0m          \u001b[0mself\u001b[0m\u001b[1;33m.\u001b[0m\u001b[0mname\u001b[0m\u001b[1;33m=\u001b[0m\u001b[0mname\u001b[0m\u001b[1;33m\u001b[0m\u001b[1;33m\u001b[0m\u001b[0m\n\u001b[1;32m---> 16\u001b[1;33m          \u001b[0mb\u001b[0m\u001b[1;33m.\u001b[0m\u001b[0m__init__\u001b[0m\u001b[1;33m(\u001b[0m\u001b[0mself\u001b[0m\u001b[1;33m,\u001b[0m\u001b[0mage\u001b[0m\u001b[1;33m,\u001b[0m\u001b[0madd\u001b[0m\u001b[1;33m)\u001b[0m\u001b[1;33m\u001b[0m\u001b[1;33m\u001b[0m\u001b[0m\n\u001b[0m\u001b[0;32m     17\u001b[0m \u001b[1;33m\u001b[0m\u001b[0m\n\u001b[0;32m     18\u001b[0m \u001b[1;33m\u001b[0m\u001b[0m\n",
      "\u001b[1;31mTypeError\u001b[0m: __init__() takes 2 positional arguments but 3 were given"
     ]
    }
   ],
   "source": [
    "class a:\n",
    "    def __init__(self,add):\n",
    "        self.add=add\n",
    "    def address(self):\n",
    "        print(f\"i am form {self.add}\")\n",
    "        \n",
    "    \n",
    "class b:\n",
    "    def __init__(self,age):\n",
    "        self.age=age\n",
    "    def ages(self):\n",
    "        print(f\" i am {self.age}\")\n",
    "class c(a,b):\n",
    "    def __init__(self,name,age,add):\n",
    "         self.name=name\n",
    "         b.__init__(self,age)\n",
    "        \n",
    "        \n",
    "    def info(self):\n",
    "        print(f\"my name is {self.name} i am form {self.add}  i am {self.age} \")\n",
    "obj=c(\"ram\",66,\"ktm\")\n",
    "obj.info()"
   ]
  },
  {
   "cell_type": "code",
   "execution_count": 32,
   "id": "16bc2e91",
   "metadata": {},
   "outputs": [
    {
     "name": "stdout",
     "output_type": "stream",
     "text": [
      "hello i am 20 and i am form kathmandu\n"
     ]
    }
   ],
   "source": [
    "class a:\n",
    "    def __init__(self):\n",
    "        self.add=\"kathmandu\"\n",
    "    def a(self):\n",
    "        pass\n",
    "        \n",
    "class b:\n",
    "    def __init__(self):\n",
    "        self.age=20\n",
    "    def b(self):\n",
    "        pass    \n",
    "class c(a,b):\n",
    "    def __init__(self):\n",
    "        a.__init__(self)\n",
    "        b.__init__(self)\n",
    "    def info(self):\n",
    "        print (f\"hello i am {self.age} and i am form {self.add}\")\n",
    "        \n",
    "obj=c()\n",
    "obj.info()\n",
    "    \n",
    "        "
   ]
  },
  {
   "cell_type": "code",
   "execution_count": 1,
   "id": "486878a2",
   "metadata": {},
   "outputs": [
    {
     "name": "stdout",
     "output_type": "stream",
     "text": [
      "ram\n",
      "55\n",
      "ktm\n"
     ]
    }
   ],
   "source": [
    "# public members\n",
    "class info:\n",
    "    def __init__(self,name,age,add):\n",
    "        self.name=name\n",
    "        self.age=age\n",
    "        self.add=add\n",
    "        \n",
    "obj=info(\"ram\",55,\"ktm\") \n",
    "print(obj.name)\n",
    "print(obj.age)\n",
    "print(obj.add)"
   ]
  },
  {
   "cell_type": "code",
   "execution_count": 3,
   "id": "e6f7bc1f",
   "metadata": {},
   "outputs": [
    {
     "name": "stdout",
     "output_type": "stream",
     "text": [
      "ram\n",
      "55\n",
      "ktm\n"
     ]
    }
   ],
   "source": [
    "#protected members\n",
    "class info:\n",
    "    def __init__(self,name,age,add):\n",
    "        self._name=name\n",
    "        self._age=age\n",
    "        self._add=add\n",
    "        \n",
    "obj=info(\"ram\",55,\"ktm\") \n",
    "print(obj._name)\n",
    "print(obj._age)\n",
    "print(obj._add)"
   ]
  },
  {
   "cell_type": "code",
   "execution_count": 4,
   "id": "7f57333a",
   "metadata": {},
   "outputs": [
    {
     "ename": "AttributeError",
     "evalue": "'info' object has no attribute '__name'",
     "output_type": "error",
     "traceback": [
      "\u001b[1;31m---------------------------------------------------------------------------\u001b[0m",
      "\u001b[1;31mAttributeError\u001b[0m                            Traceback (most recent call last)",
      "\u001b[1;32m~\\AppData\\Local\\Temp/ipykernel_8260/3758989754.py\u001b[0m in \u001b[0;36m<module>\u001b[1;34m\u001b[0m\n\u001b[0;32m      7\u001b[0m \u001b[1;33m\u001b[0m\u001b[0m\n\u001b[0;32m      8\u001b[0m \u001b[0mobj\u001b[0m\u001b[1;33m=\u001b[0m\u001b[0minfo\u001b[0m\u001b[1;33m(\u001b[0m\u001b[1;34m\"ram\"\u001b[0m\u001b[1;33m,\u001b[0m\u001b[1;36m55\u001b[0m\u001b[1;33m,\u001b[0m\u001b[1;34m\"ktm\"\u001b[0m\u001b[1;33m)\u001b[0m\u001b[1;33m\u001b[0m\u001b[1;33m\u001b[0m\u001b[0m\n\u001b[1;32m----> 9\u001b[1;33m \u001b[0mprint\u001b[0m\u001b[1;33m(\u001b[0m\u001b[0mobj\u001b[0m\u001b[1;33m.\u001b[0m\u001b[0m__name\u001b[0m\u001b[1;33m)\u001b[0m\u001b[1;33m\u001b[0m\u001b[1;33m\u001b[0m\u001b[0m\n\u001b[0m\u001b[0;32m     10\u001b[0m \u001b[0mprint\u001b[0m\u001b[1;33m(\u001b[0m\u001b[0mobj\u001b[0m\u001b[1;33m.\u001b[0m\u001b[0m__age\u001b[0m\u001b[1;33m)\u001b[0m\u001b[1;33m\u001b[0m\u001b[1;33m\u001b[0m\u001b[0m\n\u001b[0;32m     11\u001b[0m \u001b[0mprint\u001b[0m\u001b[1;33m(\u001b[0m\u001b[0mobj\u001b[0m\u001b[1;33m.\u001b[0m\u001b[0m__add\u001b[0m\u001b[1;33m)\u001b[0m\u001b[1;33m\u001b[0m\u001b[1;33m\u001b[0m\u001b[0m\n",
      "\u001b[1;31mAttributeError\u001b[0m: 'info' object has no attribute '__name'"
     ]
    }
   ],
   "source": [
    "#private members\n",
    "class info:\n",
    "    def __init__(self,name,age,add):\n",
    "        self.__name=name\n",
    "        self.__age=age\n",
    "        self.__add=add\n",
    "        \n",
    "obj=info(\"ram\",55,\"ktm\") \n",
    "print(obj.__name)\n",
    "print(obj.__age)\n",
    "print(obj.__add)"
   ]
  },
  {
   "cell_type": "code",
   "execution_count": 5,
   "id": "22a5353f",
   "metadata": {},
   "outputs": [
    {
     "name": "stdout",
     "output_type": "stream",
     "text": [
      "ram\n",
      "55\n",
      "ktm\n"
     ]
    }
   ],
   "source": [
    "#private members to use private datas from outside (name membling)\n",
    "class info:\n",
    "    def __init__(self,name,age,add):\n",
    "        self.__name=name\n",
    "        self.__age=age\n",
    "        self.__add=add\n",
    "        \n",
    "obj=info(\"ram\",55,\"ktm\") \n",
    "print(obj._info__name)\n",
    "print(obj._info__age)\n",
    "print(obj._info__add)"
   ]
  },
  {
   "cell_type": "code",
   "execution_count": 9,
   "id": "c65b9300",
   "metadata": {},
   "outputs": [
    {
     "name": "stdout",
     "output_type": "stream",
     "text": [
      "enter name=sarita\n",
      "enter age=7\n",
      "enter add=ktm\n",
      "hello my name is sarita.i am form ktm\n",
      "hello world i am sarita i am from ktmand my age is 7\n"
     ]
    }
   ],
   "source": [
    "class A:\n",
    "    def __init__(self,name,age,add):\n",
    "        self.name=name\n",
    "        self._age=age\n",
    "        self._add=add\n",
    "    def a(self):\n",
    "        print(f\"hello world i am {self.name} i am from {self._add}and my age is {self._age}\")\n",
    "                    \n",
    "class B(A): \n",
    "    def info(self):\n",
    "         print(f\"hello my name is {self.name}.i am form {self._add}\")  \n",
    "            \n",
    "name=input(\"enter name=\")\n",
    "age=int(input(\"enter age=\"))\n",
    "add=input(\"enter add=\")            \n",
    "                    \n",
    "obj=B(name,age,add)\n",
    "obj.info() \n",
    "obj.a()              \n",
    "                    \n",
    "                    "
   ]
  },
  {
   "cell_type": "code",
   "execution_count": 3,
   "id": "0c5fad8b",
   "metadata": {},
   "outputs": [
    {
     "name": "stdout",
     "output_type": "stream",
     "text": [
      "Hello World I am Ram.  I am from Kathmandu I am 34\n"
     ]
    }
   ],
   "source": [
    "class A:\n",
    "    def __init__(self,add):\n",
    "        self._add = add\n",
    "    def address(self):\n",
    "        print(f\"I am from {self.add}\")\n",
    "\n",
    "class B:\n",
    "    def __init__(self,age):\n",
    "        self._age = age\n",
    "    def ages(self):\n",
    "        print(f\"I am from I am {self.age}\")\n",
    "        \n",
    "class C(A,B):\n",
    "    def __init__(self,name,age,add):\n",
    "        self.__name = name\n",
    "        B.__init__(self,age)\n",
    "        A.__init__(self,add)\n",
    "        \n",
    "    def info(self):\n",
    "        print(f\"Hello World I am {self.__name}.  I am from {self._add} I am {self._age}\")\n",
    "             \n",
    "\n",
    "obj = C(\"Ram\",34,\"Kathmandu\")\n",
    "obj.info()"
   ]
  },
  {
   "cell_type": "code",
   "execution_count": 11,
   "id": "03c0c5c0",
   "metadata": {},
   "outputs": [
    {
     "name": "stdout",
     "output_type": "stream",
     "text": [
      "enter name=sarita\n",
      "enter add=ktm\n",
      "hello my name is sarita\n",
      "hello i am form ktm\n"
     ]
    }
   ],
   "source": [
    "# super()--> helps to call function/methods\n",
    "\n",
    "\n",
    "class A:\n",
    "    def __init__(self,name,add):\n",
    "        self.name=name\n",
    "        self.add=add\n",
    "        \n",
    "    def a(self):\n",
    "        return f\"hello my name is {self.name}\"\n",
    "                    \n",
    "class B(A): \n",
    "    def info(self):\n",
    "        print(super().a())\n",
    "        print(f\"hello i am form {self.add}\")  \n",
    "            \n",
    "name=input(\"enter name=\")\n",
    "add=input(\"enter add=\")            \n",
    "                    \n",
    "obj=B(name,add)\n",
    "obj.info()                    \n",
    "                    \n",
    "                    "
   ]
  },
  {
   "cell_type": "code",
   "execution_count": 13,
   "id": "a6ba8690",
   "metadata": {},
   "outputs": [
    {
     "name": "stdout",
     "output_type": "stream",
     "text": [
      "enter name=sarita\n",
      "enter add=ktm\n",
      "hello my name is sarita hello i am form ktm\n"
     ]
    }
   ],
   "source": [
    "class A:\n",
    "    def __init__(self,name,add):\n",
    "        self.name=name\n",
    "        self.add=add\n",
    "        \n",
    "    def a(self):\n",
    "        return f\"hello my name is {self.name}\"\n",
    "                    \n",
    "class B(A): \n",
    "    def info(self):\n",
    "#         print(super().a())\n",
    "        print(super().a(),f\"hello i am form {self.add}\")  \n",
    "            \n",
    "name=input(\"enter name=\")\n",
    "add=input(\"enter add=\")            \n",
    "                    \n",
    "obj=B(name,add)\n",
    "obj.info()                    \n",
    "                    \n",
    "                    "
   ]
  },
  {
   "cell_type": "code",
   "execution_count": 14,
   "id": "995d9b48",
   "metadata": {},
   "outputs": [
    {
     "data": {
      "text/plain": [
       "[['ram', 77, 'ktm'], ['ram', 77, 'ktm'], ['ram', 77, 'ktm']]"
      ]
     },
     "execution_count": 14,
     "metadata": {},
     "output_type": "execute_result"
    }
   ],
   "source": [
    "[['ram',77,'ktm'],\n",
    "['ram',77,'ktm'],\n",
    "['ram',77,'ktm'],\n",
    "]"
   ]
  },
  {
   "cell_type": "code",
   "execution_count": null,
   "id": "6e3e9181",
   "metadata": {},
   "outputs": [],
   "source": [
    "class a:\n",
    "    def __init__(self,name):\n",
    "        self.name=name\n",
    "    def a(self):\n",
    "        print(f\"hello i am {self.name}\")\n",
    "           \n",
    "        \n",
    "        \n",
    "class b:\n",
    "    def __init__(self,age):\n",
    "        self.age=age\n",
    "    def a(self):\n",
    "        print(f\"hello i am {self.age}\")\n",
    "    \n",
    "class c(a,b):\n",
    "    def __init__(self):\n",
    "        a.__init__(self)\n",
    "        b.__init__(self)\n",
    "    def info(self):\n",
    "        print (f\"hello i am {self.age} and i am form {self.add}\")\n",
    "n=int(input(\"enter how many users:\"))  \n",
    "for i in range(n):\n",
    "    a=input(\"enter name\")     \n",
    "    b=int(input(\"enter age\"))\n",
    "    \n",
    "    \n",
    "   \n",
    "        \n",
    "obj=c(name,age)\n",
    "obj.info()\n",
    "    \n",
    "    "
   ]
  },
  {
   "cell_type": "code",
   "execution_count": null,
   "id": "7be68038",
   "metadata": {},
   "outputs": [],
   "source": []
  }
 ],
 "metadata": {
  "kernelspec": {
   "display_name": "Python 3 (ipykernel)",
   "language": "python",
   "name": "python3"
  },
  "language_info": {
   "codemirror_mode": {
    "name": "ipython",
    "version": 3
   },
   "file_extension": ".py",
   "mimetype": "text/x-python",
   "name": "python",
   "nbconvert_exporter": "python",
   "pygments_lexer": "ipython3",
   "version": "3.9.7"
  }
 },
 "nbformat": 4,
 "nbformat_minor": 5
}
